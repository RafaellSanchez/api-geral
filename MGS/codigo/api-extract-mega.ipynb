{
 "cells": [
  {
   "cell_type": "code",
   "execution_count": 13,
   "metadata": {},
   "outputs": [
    {
     "name": "stdout",
     "output_type": "stream",
     "text": [
      "Collecting openpyxl\n",
      "  Downloading openpyxl-3.1.2-py2.py3-none-any.whl.metadata (2.5 kB)\n",
      "Collecting et-xmlfile (from openpyxl)\n",
      "  Downloading et_xmlfile-1.1.0-py3-none-any.whl (4.7 kB)\n",
      "Downloading openpyxl-3.1.2-py2.py3-none-any.whl (249 kB)\n",
      "\u001b[2K   \u001b[90m━━━━━━━━━━━━━━━━━━━━━━━━━━━━━━━━━━━━━━━━\u001b[0m \u001b[32m250.0/250.0 kB\u001b[0m \u001b[31m5.1 MB/s\u001b[0m eta \u001b[36m0:00:00\u001b[0m:00:01\u001b[0m\n",
      "\u001b[?25hInstalling collected packages: et-xmlfile, openpyxl\n",
      "Successfully installed et-xmlfile-1.1.0 openpyxl-3.1.2\n"
     ]
    }
   ],
   "source": [
    "!pip install openpyxl"
   ]
  },
  {
   "cell_type": "code",
   "execution_count": 19,
   "metadata": {},
   "outputs": [],
   "source": [
    "import pandas as pd\n",
    "import openpyxl"
   ]
  },
  {
   "cell_type": "code",
   "execution_count": 22,
   "metadata": {},
   "outputs": [
    {
     "name": "stdout",
     "output_type": "stream",
     "text": [
      "Iterando sobre o df\n",
      "Salvando o df com delimitador ponto e virgula\n",
      "Nome do arquivo /workspaces/api-geral/MGS/dados/MEGA SENA.txt\n"
     ]
    }
   ],
   "source": [
    "# Carregue o arquivo Excel\n",
    "file = '/workspaces/api-geral/MGS/dados/Mega-Sena(2).xlsx'\n",
    "path = '/workspaces/api-geral/MGS/dados/'\n",
    "wb = openpyxl.load_workbook(filename=file)\n",
    "\n",
    "dict_dfs = {}\n",
    "\n",
    "# Iterar sobre as planilhas e criar DataFrames\n",
    "for sheet in wb.sheetnames:\n",
    "    sheet_data = []\n",
    "    for row in wb[sheet].iter_rows(values_only=True):\n",
    "        sheet_data.append(row)\n",
    "    \n",
    "    df = pd.DataFrame(sheet_data[1:], columns=sheet_data[0])\n",
    "    dict_dfs[sheet] = df\n",
    "\n",
    "# Iterar sobre as planilhas no dicionário e salvar em arquivos de texto delimitados por ponto e vírgula\n",
    "for sheet_name, df in dict_dfs.items():\n",
    "    file_name = path + sheet_name + '.txt'\n",
    "    df.to_csv(file_name, sep=';', index=False)\n",
    "\n",
    "print('Iterando sobre o df')\n",
    "print('Salvando o df com delimitador ponto e virgula')\n",
    "print(f'Nome do arquivo {file_name}')"
   ]
  },
  {
   "cell_type": "code",
   "execution_count": null,
   "metadata": {},
   "outputs": [],
   "source": []
  },
  {
   "cell_type": "code",
   "execution_count": 1,
   "metadata": {},
   "outputs": [],
   "source": [
    "import requests\n",
    "import pandas as pd"
   ]
  },
  {
   "cell_type": "code",
   "execution_count": 4,
   "metadata": {},
   "outputs": [
    {
     "name": "stdout",
     "output_type": "stream",
     "text": [
      "{'acumulado': True, 'dataApuracao': '15/02/2024', 'dataProximoConcurso': '17/02/2024', 'dezenasSorteadasOrdemSorteio': ['12', '33', '41', '46', '17', '54'], 'exibirDetalhamentoPorCidade': True, 'id': None, 'indicadorConcursoEspecial': 1, 'listaDezenas': ['12', '17', '33', '41', '46', '54'], 'listaDezenasSegundoSorteio': None, 'listaMunicipioUFGanhadores': [], 'listaRateioPremio': [{'descricaoFaixa': '6 acertos', 'faixa': 1, 'numeroDeGanhadores': 0, 'valorPremio': 0.0}, {'descricaoFaixa': '5 acertos', 'faixa': 2, 'numeroDeGanhadores': 108, 'valorPremio': 34625.31}, {'descricaoFaixa': '4 acertos', 'faixa': 3, 'numeroDeGanhadores': 6720, 'valorPremio': 794.96}], 'listaResultadoEquipeEsportiva': None, 'localSorteio': 'ESPAÇO DA SORTE', 'nomeMunicipioUFSorteio': 'SÃO PAULO, SP', 'nomeTimeCoracaoMesSorte': '\\x00\\x00\\x00\\x00\\x00\\x00\\x00\\x00\\x00\\x00\\x00\\x00\\x00\\x00\\x00\\x00\\x00', 'numero': 2688, 'numeroConcursoAnterior': 2687, 'numeroConcursoFinal_0_5': 2690, 'numeroConcursoProximo': 2689, 'numeroJogo': 2, 'observacao': '', 'premiacaoContingencia': None, 'tipoJogo': 'MEGA_SENA', 'tipoPublicacao': 3, 'ultimoConcurso': True, 'valorArrecadado': 64859960.0, 'valorAcumuladoConcurso_0_5': 14992697.83, 'valorAcumuladoConcursoEspecial': 14692582.75, 'valorAcumuladoProximoConcurso': 51182887.82, 'valorEstimadoProximoConcurso': 58000000.0, 'valorSaldoReservaGarantidora': 0.0, 'valorTotalPremioFaixaUm': 0.0}\n"
     ]
    },
    {
     "name": "stderr",
     "output_type": "stream",
     "text": [
      "/home/codespace/.python/current/lib/python3.10/site-packages/urllib3/connectionpool.py:1100: InsecureRequestWarning: Unverified HTTPS request is being made to host 'servicebus2.caixa.gov.br'. Adding certificate verification is strongly advised. See: https://urllib3.readthedocs.io/en/latest/advanced-usage.html#tls-warnings\n",
      "  warnings.warn(\n"
     ]
    }
   ],
   "source": [
    "url = 'https://servicebus2.caixa.gov.br/portaldeloterias/api/megasena'\n",
    "# response = requests.get(url)\n",
    "response = requests.get(url, verify=False)\n",
    "\n",
    "dados = response.json()\n",
    "print(dados)"
   ]
  },
  {
   "cell_type": "code",
   "execution_count": 7,
   "metadata": {},
   "outputs": [
    {
     "name": "stdout",
     "output_type": "stream",
     "text": [
      "{'acumulado': True, 'dataApuracao': '15/02/2024', 'dataProximoConcurso': '17/02/2024', 'dezenasSorteadasOrdemSorteio': ['12', '33', '41', '46', '17', '54'], 'exibirDetalhamentoPorCidade': True, 'id': None, 'indicadorConcursoEspecial': 1, 'listaDezenas': ['12', '17', '33', '41', '46', '54'], 'listaDezenasSegundoSorteio': None, 'listaMunicipioUFGanhadores': [], 'listaRateioPremio': [{'descricaoFaixa': '6 acertos', 'faixa': 1, 'numeroDeGanhadores': 0, 'valorPremio': 0.0}, {'descricaoFaixa': '5 acertos', 'faixa': 2, 'numeroDeGanhadores': 108, 'valorPremio': 34625.31}, {'descricaoFaixa': '4 acertos', 'faixa': 3, 'numeroDeGanhadores': 6720, 'valorPremio': 794.96}], 'listaResultadoEquipeEsportiva': None, 'localSorteio': 'ESPAÇO DA SORTE', 'nomeMunicipioUFSorteio': 'SÃO PAULO, SP', 'nomeTimeCoracaoMesSorte': '\\x00\\x00\\x00\\x00\\x00\\x00\\x00\\x00\\x00\\x00\\x00\\x00\\x00\\x00\\x00\\x00\\x00', 'numero': 2688, 'numeroConcursoAnterior': 2687, 'numeroConcursoFinal_0_5': 2690, 'numeroConcursoProximo': 2689, 'numeroJogo': 2, 'observacao': '', 'premiacaoContingencia': None, 'tipoJogo': 'MEGA_SENA', 'tipoPublicacao': 3, 'ultimoConcurso': True, 'valorArrecadado': 64859960.0, 'valorAcumuladoConcurso_0_5': 14992697.83, 'valorAcumuladoConcursoEspecial': 14692582.75, 'valorAcumuladoProximoConcurso': 51182887.82, 'valorEstimadoProximoConcurso': 58000000.0, 'valorSaldoReservaGarantidora': 0.0, 'valorTotalPremioFaixaUm': 0.0}\n"
     ]
    },
    {
     "name": "stderr",
     "output_type": "stream",
     "text": [
      "/home/codespace/.python/current/lib/python3.10/site-packages/urllib3/connectionpool.py:1100: InsecureRequestWarning: Unverified HTTPS request is being made to host 'servicebus2.caixa.gov.br'. Adding certificate verification is strongly advised. See: https://urllib3.readthedocs.io/en/latest/advanced-usage.html#tls-warnings\n",
      "  warnings.warn(\n"
     ]
    }
   ],
   "source": [
    "import requests\n",
    "\n",
    "url = 'https://servicebus2.caixa.gov.br/portaldeloterias/api/megasena'\n",
    "response = requests.get(url, verify=False)\n",
    "\n",
    "if response.status_code == 200:\n",
    "    dados = response.json()\n",
    "    print(dados)  # Exibir a resposta completa\n",
    "else:\n",
    "    print(\"Falha ao recuperar os jogos da Mega-Sena.\")\n"
   ]
  },
  {
   "cell_type": "code",
   "execution_count": null,
   "metadata": {},
   "outputs": [],
   "source": [
    "{'acumulado': True, \n",
    " 'dataApuracao': '15/02/2024', \n",
    " 'dataProximoConcurso': '17/02/2024', \n",
    " 'dezenasSorteadasOrdemSorteio': ['12', '33', '41', '46', '17', '54'], \n",
    " 'exibirDetalhamentoPorCidade': True, \n",
    " 'id': None, \n",
    " 'indicadorConcursoEspecial': 1, \n",
    " 'listaDezenas': ['12', '17', '33', '41', '46', '54'], \n",
    " 'listaDezenasSegundoSorteio': None, \n",
    " 'listaMunicipioUFGanhadores': [], \n",
    " 'listaRateioPremio': [\n",
    "     {'descricaoFaixa': '6 acertos', 'faixa': 1, 'numeroDeGanhadores': 0, 'valorPremio': 0.0}, \n",
    "     {'descricaoFaixa': '5 acertos', 'faixa': 2, 'numeroDeGanhadores': 108, 'valorPremio': 34625.31}, \n",
    "     {'descricaoFaixa': '4 acertos', 'faixa': 3, 'numeroDeGanhadores': 6720, 'valorPremio': 794.96}], \n",
    " 'listaResultadoEquipeEsportiva': None, \n",
    " 'localSorteio': 'ESPAÇO DA SORTE', \n",
    " 'nomeMunicipioUFSorteio': 'SÃO PAULO, SP', \n",
    " 'nomeTimeCoracaoMesSorte': '\\x00\\x00\\x00\\x00\\x00\\x00\\x00\\x00\\x00\\x00\\x00\\x00\\x00\\x00\\x00\\x00\\x00', \n",
    " 'numero': 2688, \n",
    " 'numeroConcursoAnterior': 2687, \n",
    " 'numeroConcursoFinal_0_5': 2690, \n",
    " 'numeroConcursoProximo': 2689, \n",
    " 'numeroJogo': 2, \n",
    " 'observacao': '', \n",
    " 'premiacaoContingencia': None, \n",
    " 'tipoJogo': 'MEGA_SENA', \n",
    " 'tipoPublicacao': 3, \n",
    " 'ultimoConcurso': True, \n",
    " 'valorArrecadado': 64859960.0, \n",
    " 'valorAcumuladoConcurso_0_5': 14992697.83, \n",
    " 'valorAcumuladoConcursoEspecial': 14692582.75, \n",
    " 'valorAcumuladoProximoConcurso': 51182887.82, \n",
    " 'valorEstimadoProximoConcurso': 58000000.0, \n",
    " 'valorSaldoReservaGarantidora': 0.0, \n",
    " 'valorTotalPremioFaixaUm': 0.0}"
   ]
  },
  {
   "cell_type": "code",
   "execution_count": 8,
   "metadata": {},
   "outputs": [
    {
     "name": "stdout",
     "output_type": "stream",
     "text": [
      "Dezenas Sorteadas: ['12', '33', '41', '46', '17', '54']\n",
      "Valor Arrecadado: 64859960.0\n"
     ]
    },
    {
     "name": "stderr",
     "output_type": "stream",
     "text": [
      "/home/codespace/.python/current/lib/python3.10/site-packages/urllib3/connectionpool.py:1100: InsecureRequestWarning: Unverified HTTPS request is being made to host 'servicebus2.caixa.gov.br'. Adding certificate verification is strongly advised. See: https://urllib3.readthedocs.io/en/latest/advanced-usage.html#tls-warnings\n",
      "  warnings.warn(\n"
     ]
    }
   ],
   "source": [
    "import requests\n",
    "\n",
    "url = 'https://servicebus2.caixa.gov.br/portaldeloterias/api/megasena'\n",
    "response = requests.get(url, verify=False)\n",
    "\n",
    "if response.status_code == 200:\n",
    "    dados = response.json()\n",
    "    dezenas_sorteadas = dados['dezenasSorteadasOrdemSorteio']\n",
    "    print(\"Dezenas Sorteadas:\", dezenas_sorteadas)\n",
    "    valor_arrecadado = dados['valorArrecadado']\n",
    "    print(\"Valor Arrecadado:\", valor_arrecadado)\n",
    "    # Adicione outras informações que deseja extrair aqui\n",
    "else:\n",
    "    print(\"Falha ao recuperar os jogos da Mega-Sena.\")\n"
   ]
  },
  {
   "cell_type": "code",
   "execution_count": 10,
   "metadata": {},
   "outputs": [
    {
     "name": "stderr",
     "output_type": "stream",
     "text": [
      "/home/codespace/.python/current/lib/python3.10/site-packages/urllib3/connectionpool.py:1100: InsecureRequestWarning: Unverified HTTPS request is being made to host 'servicebus2.caixa.gov.br'. Adding certificate verification is strongly advised. See: https://urllib3.readthedocs.io/en/latest/advanced-usage.html#tls-warnings\n",
      "  warnings.warn(\n"
     ]
    },
    {
     "name": "stdout",
     "output_type": "stream",
     "text": [
      "Não foi possível encontrar os resultados do jogo nesta página.\n",
      "Total de jogos recuperados: 0\n"
     ]
    }
   ],
   "source": [
    "import requests\n",
    "\n",
    "url_base = 'https://servicebus2.caixa.gov.br/portaldeloterias/api/megasena'\n",
    "pagina = 1\n",
    "todos_jogos = []\n",
    "\n",
    "while True:\n",
    "    url = f'{url_base}/{pagina}'\n",
    "    response = requests.get(url, verify=False)\n",
    "    \n",
    "    if response.status_code == 200:\n",
    "        dados = response.json()\n",
    "        if 'sorteios' in dados:\n",
    "            resultados = dados['sorteios']\n",
    "            todos_jogos.extend(resultados)\n",
    "            \n",
    "            # Verifica se há mais páginas disponíveis\n",
    "            if not dados.get('ultimoConcurso', False):\n",
    "                break\n",
    "                \n",
    "            pagina += 1\n",
    "        else:\n",
    "            print(\"Não foi possível encontrar os resultados do jogo nesta página.\")\n",
    "            break\n",
    "    else:\n",
    "        print(\"Falha ao recuperar os jogos da Mega-Sena.\")\n",
    "        break\n",
    "\n",
    "print(\"Total de jogos recuperados:\", len(todos_jogos))\n"
   ]
  }
 ],
 "metadata": {
  "kernelspec": {
   "display_name": "Python 3",
   "language": "python",
   "name": "python3"
  },
  "language_info": {
   "codemirror_mode": {
    "name": "ipython",
    "version": 3
   },
   "file_extension": ".py",
   "mimetype": "text/x-python",
   "name": "python",
   "nbconvert_exporter": "python",
   "pygments_lexer": "ipython3",
   "version": "3.10.13"
  }
 },
 "nbformat": 4,
 "nbformat_minor": 2
}
