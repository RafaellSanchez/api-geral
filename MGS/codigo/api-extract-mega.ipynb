{
 "cells": [
  {
   "cell_type": "code",
   "execution_count": 13,
   "metadata": {},
   "outputs": [
    {
     "name": "stdout",
     "output_type": "stream",
     "text": [
      "Collecting openpyxl\n",
      "  Downloading openpyxl-3.1.2-py2.py3-none-any.whl.metadata (2.5 kB)\n",
      "Collecting et-xmlfile (from openpyxl)\n",
      "  Downloading et_xmlfile-1.1.0-py3-none-any.whl (4.7 kB)\n",
      "Downloading openpyxl-3.1.2-py2.py3-none-any.whl (249 kB)\n",
      "\u001b[2K   \u001b[90m━━━━━━━━━━━━━━━━━━━━━━━━━━━━━━━━━━━━━━━━\u001b[0m \u001b[32m250.0/250.0 kB\u001b[0m \u001b[31m5.1 MB/s\u001b[0m eta \u001b[36m0:00:00\u001b[0m:00:01\u001b[0m\n",
      "\u001b[?25hInstalling collected packages: et-xmlfile, openpyxl\n",
      "Successfully installed et-xmlfile-1.1.0 openpyxl-3.1.2\n"
     ]
    }
   ],
   "source": [
    "!pip install openpyxl"
   ]
  },
  {
   "cell_type": "code",
   "execution_count": 19,
   "metadata": {},
   "outputs": [],
   "source": [
    "import pandas as pd\n",
    "import openpyxl"
   ]
  },
  {
   "cell_type": "code",
   "execution_count": 22,
   "metadata": {},
   "outputs": [
    {
     "name": "stdout",
     "output_type": "stream",
     "text": [
      "Iterando sobre o df\n",
      "Salvando o df com delimitador ponto e virgula\n",
      "Nome do arquivo /workspaces/api-geral/MGS/dados/MEGA SENA.txt\n"
     ]
    }
   ],
   "source": [
    "# Carregue o arquivo Excel\n",
    "file = '/workspaces/api-geral/MGS/dados/Mega-Sena(2).xlsx'\n",
    "path = '/workspaces/api-geral/MGS/dados/'\n",
    "wb = openpyxl.load_workbook(filename=file)\n",
    "\n",
    "dict_dfs = {}\n",
    "\n",
    "# Iterar sobre as planilhas e criar DataFrames\n",
    "for sheet in wb.sheetnames:\n",
    "    sheet_data = []\n",
    "    for row in wb[sheet].iter_rows(values_only=True):\n",
    "        sheet_data.append(row)\n",
    "    \n",
    "    df = pd.DataFrame(sheet_data[1:], columns=sheet_data[0])\n",
    "    dict_dfs[sheet] = df\n",
    "\n",
    "# Iterar sobre as planilhas no dicionário e salvar em arquivos de texto delimitados por ponto e vírgula\n",
    "for sheet_name, df in dict_dfs.items():\n",
    "    file_name = path + sheet_name + '.txt'\n",
    "    df.to_csv(file_name, sep=';', index=False)\n",
    "\n",
    "print('Iterando sobre o df')\n",
    "print('Salvando o df com delimitador ponto e virgula')\n",
    "print(f'Nome do arquivo {file_name}')"
   ]
  }
 ],
 "metadata": {
  "kernelspec": {
   "display_name": "Python 3",
   "language": "python",
   "name": "python3"
  },
  "language_info": {
   "codemirror_mode": {
    "name": "ipython",
    "version": 3
   },
   "file_extension": ".py",
   "mimetype": "text/x-python",
   "name": "python",
   "nbconvert_exporter": "python",
   "pygments_lexer": "ipython3",
   "version": "3.10.13"
  }
 },
 "nbformat": 4,
 "nbformat_minor": 2
}
