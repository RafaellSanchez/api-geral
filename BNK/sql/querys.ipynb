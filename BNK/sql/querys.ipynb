{
 "cells": [
  {
   "cell_type": "code",
   "execution_count": 1,
   "metadata": {},
   "outputs": [],
   "source": [
    "import sqlite3"
   ]
  },
  {
   "cell_type": "code",
   "execution_count": 2,
   "metadata": {},
   "outputs": [
    {
     "name": "stdout",
     "output_type": "stream",
     "text": [
      "conectando ao banco de dados!\n"
     ]
    }
   ],
   "source": [
    "banco_de_dados = '/workspaces/api-geral/BNK/sql/bank.db'\n",
    "# Conectar ao banco de dados SQLite\n",
    "print('conectando ao banco de dados!')\n",
    "conn = sqlite3.connect(banco_de_dados)\n",
    "\n",
    "# Criar um cursor para executar comandos SQL\n",
    "cursor = conn.cursor()"
   ]
  },
  {
   "cell_type": "code",
   "execution_count": 3,
   "metadata": {},
   "outputs": [
    {
     "name": "stdout",
     "output_type": "stream",
     "text": [
      "tabela excluida: tb_bank_brnz\n"
     ]
    }
   ],
   "source": [
    "table = 'tb_bank_brnz'\n",
    "query = f'drop table {table}'\n",
    "cursor.execute(query)\n",
    "print(f'tabela excluida: {table}')"
   ]
  },
  {
   "cell_type": "code",
   "execution_count": null,
   "metadata": {},
   "outputs": [],
   "source": [
    "table = 'tb_bank_brnz'\n",
    "query = f'drop table {table}'\n",
    "cursor.execute(query)\n",
    "print(f'tabela excluida: {table}')"
   ]
  },
  {
   "cell_type": "code",
   "execution_count": 6,
   "metadata": {},
   "outputs": [],
   "source": [
    "# Commit para salvar as alterações\n",
    "conn.commit()\n",
    "\n",
    "conn.close()\n"
   ]
  }
 ],
 "metadata": {
  "kernelspec": {
   "display_name": "Python 3",
   "language": "python",
   "name": "python3"
  },
  "language_info": {
   "codemirror_mode": {
    "name": "ipython",
    "version": 3
   },
   "file_extension": ".py",
   "mimetype": "text/x-python",
   "name": "python",
   "nbconvert_exporter": "python",
   "pygments_lexer": "ipython3",
   "version": "3.10.13"
  }
 },
 "nbformat": 4,
 "nbformat_minor": 2
}
