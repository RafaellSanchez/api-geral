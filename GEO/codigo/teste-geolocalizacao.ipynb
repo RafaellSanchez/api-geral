{
 "cells": [
  {
   "cell_type": "code",
   "execution_count": 1,
   "metadata": {},
   "outputs": [],
   "source": [
    "import requests"
   ]
  },
  {
   "cell_type": "code",
   "execution_count": 13,
   "metadata": {},
   "outputs": [
    {
     "name": "stdout",
     "output_type": "stream",
     "text": [
      "[{'origem': {'lat_gd': '-20.000000000', 'long_gd': '-50.000000000', 'referencial': 'sad69'}, 'resultado': {'lat_gd': '-20.000453158', 'long_gd': '-50.000449992', 'referencial': 'sirgas2000', 'sigma_lat': '0,080', 'sigma_long': '0,121'}, 'tipo_conversao': 'grid'}, {'origem': {'lat_gd': '-19.000000000', 'long_gd': '-51.000000000', 'referencial': 'sad69'}, 'resultado': {'lat_gd': '-19.000432394', 'long_gd': '-51.000446028', 'referencial': 'sirgas2000', 'sigma_lat': '0,335', 'sigma_long': '0,128'}, 'tipo_conversao': 'grid'}]\n"
     ]
    }
   ],
   "source": [
    "url_api = 'https://servicodados.ibge.gov.br/api/v1/progrid/latlongdec?pontos=[{\"lat\":-20,\"long\":-50},{\"lat\":-19,\"long\":-51}]&referencialEntrada=sad69'\n",
    "response = requests.get(url_api)\n",
    "dados = response.json()\n",
    "print(dados)"
   ]
  }
 ],
 "metadata": {
  "kernelspec": {
   "display_name": "Python 3",
   "language": "python",
   "name": "python3"
  },
  "language_info": {
   "codemirror_mode": {
    "name": "ipython",
    "version": 3
   },
   "file_extension": ".py",
   "mimetype": "text/x-python",
   "name": "python",
   "nbconvert_exporter": "python",
   "pygments_lexer": "ipython3",
   "version": "3.10.13"
  }
 },
 "nbformat": 4,
 "nbformat_minor": 2
}
