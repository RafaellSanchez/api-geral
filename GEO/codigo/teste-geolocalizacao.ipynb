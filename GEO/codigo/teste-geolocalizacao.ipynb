{
 "cells": [
  {
   "cell_type": "code",
   "execution_count": 1,
   "metadata": {},
   "outputs": [],
   "source": [
    "import pandas"
   ]
  },
  {
   "cell_type": "code",
   "execution_count": null,
   "metadata": {},
   "outputs": [],
   "source": [
    "#teste teste teste"
   ]
  },
  {
   "cell_type": "code",
   "execution_count": 2,
   "metadata": {},
   "outputs": [],
   "source": [
    "import numpy"
   ]
  },
  {
   "cell_type": "code",
   "execution_count": 20,
   "metadata": {},
   "outputs": [
    {
     "name": "stdout",
     "output_type": "stream",
     "text": [
      "Erro ao fazer a solicitação para as cidades do estado de São Paulo. Código de status: 400\n"
     ]
    }
   ],
   "source": [
    "import requests\n",
    "\n",
    "# URL da API Nominatim\n",
    "url = \"https://nominatim.openstreetmap.org/search\"\n",
    "\n",
    "# Parâmetros da consulta\n",
    "params = {\n",
    "    \"q\": \"\",\n",
    "    \"format\": \"json\",\n",
    "    \"country\": \"Brazil\",\n",
    "    \"state\": \"São Paulo\"\n",
    "}\n",
    "\n",
    "# Fazendo a solicitação GET para buscar cidades dentro do estado de São Paulo\n",
    "response = requests.get(url, params=params)\n",
    "\n",
    "# Verificando se a solicitação foi bem-sucedida\n",
    "if response.status_code == 200:\n",
    "    # Convertendo a resposta para JSON\n",
    "    data = response.json()\n",
    "    \n",
    "    # Imprimindo os dados completos de cada cidade\n",
    "    print(data)\n",
    "else:\n",
    "    print(\"Erro ao fazer a solicitação para as cidades do estado de São Paulo. Código de status:\", response.status_code)\n"
   ]
  },
  {
   "cell_type": "code",
   "execution_count": null,
   "metadata": {},
   "outputs": [],
   "source": []
  },
  {
   "cell_type": "code",
   "execution_count": 19,
   "metadata": {},
   "outputs": [
    {
     "name": "stdout",
     "output_type": "stream",
     "text": [
      "[{'place_id': 43873845, 'licence': 'Data © OpenStreetMap contributors, ODbL 1.0. http://osm.org/copyright', 'osm_type': 'relation', 'osm_id': 59470, 'lat': '-10.3333333', 'lon': '-53.2', 'class': 'boundary', 'type': 'administrative', 'place_rank': 4, 'importance': 0.8455773423061166, 'addresstype': 'country', 'name': 'Brasil', 'display_name': 'Brasil', 'boundingbox': ['-33.8694284', '5.2695808', '-73.9830625', '-28.6289646']}]\n"
     ]
    }
   ],
   "source": [
    "import requests\n",
    "\n",
    "# URL da API Nominatim\n",
    "url = \"https://nominatim.openstreetmap.org/search\"\n",
    "\n",
    "# Consulta para São Paulo\n",
    "query = \"São Paulo, Brazil\"\n",
    "\n",
    "# Parâmetros da consulta\n",
    "params = {\n",
    "    \"q\": query,\n",
    "    \"format\": \"json\"\n",
    "}\n",
    "\n",
    "# Fazendo a solicitação GET para obter as coordenadas de São Paulo\n",
    "response = requests.get(url, params=params)\n",
    "\n",
    "# Verificando se a solicitação foi bem-sucedida\n",
    "if response.status_code == 200:\n",
    "    # Convertendo a resposta para JSON\n",
    "    data = response.json()\n",
    "    \n",
    "    # Verificando se há dados de localização para São Paulo\n",
    "    if data:\n",
    "        # Obtendo as coordenadas de São Paulo\n",
    "        latitude = data[0]['lat']\n",
    "        longitude = data[0]['lon']\n",
    "        \n",
    "        # Parâmetros da consulta para buscar cidades próximas a São Paulo dentro de um raio de 500km\n",
    "        params = {\n",
    "            \"format\": \"json\",\n",
    "            \"lat\": latitude,\n",
    "            \"lon\": longitude,\n",
    "            \"country\": \"Brazil\",\n",
    "            \"radius\": 500000  # Raio de 500km\n",
    "        }\n",
    "        \n",
    "        # Fazendo uma nova solicitação GET para buscar cidades próximas a São Paulo\n",
    "        response = requests.get(url, params=params)\n",
    "        \n",
    "        # Verificando se a solicitação foi bem-sucedida\n",
    "        if response.status_code == 200:\n",
    "            # Convertendo a resposta para JSON\n",
    "            data = response.json()\n",
    "            \n",
    "            # Imprimindo os dados completos de cada cidade\n",
    "            print(data)\n",
    "        else:\n",
    "            print(\"Erro ao obter as cidades próximas a São Paulo. Código de status:\", response.status_code)\n",
    "    else:\n",
    "        print(\"Não foi possível encontrar as coordenadas de São Paulo.\")\n",
    "else:\n",
    "    print(\"Erro ao fazer a solicitação para São Paulo. Código de status:\", response.status_code)\n"
   ]
  },
  {
   "cell_type": "code",
   "execution_count": null,
   "metadata": {},
   "outputs": [],
   "source": []
  },
  {
   "cell_type": "code",
   "execution_count": 18,
   "metadata": {},
   "outputs": [
    {
     "name": "stdout",
     "output_type": "stream",
     "text": [
      "[{'place_id': 43873845, 'licence': 'Data © OpenStreetMap contributors, ODbL 1.0. http://osm.org/copyright', 'osm_type': 'relation', 'osm_id': 59470, 'lat': '-10.3333333', 'lon': '-53.2', 'class': 'boundary', 'type': 'administrative', 'place_rank': 4, 'importance': 0.8455773423061166, 'addresstype': 'country', 'name': 'Brasil', 'display_name': 'Brasil', 'boundingbox': ['-33.8694284', '5.2695808', '-73.9830625', '-28.6289646']}]\n"
     ]
    }
   ],
   "source": [
    "import requests\n",
    "\n",
    "# URL da API Nominatim\n",
    "url = \"https://nominatim.openstreetmap.org/search\"\n",
    "\n",
    "# Consulta para São Paulo\n",
    "query = \"São Paulo, Brazil\"\n",
    "\n",
    "# Parâmetros da consulta\n",
    "params = {\n",
    "    \"q\": query,\n",
    "    \"format\": \"json\"\n",
    "}\n",
    "\n",
    "# Fazendo a solicitação GET para obter as coordenadas de São Paulo\n",
    "response = requests.get(url, params=params)\n",
    "\n",
    "# Verificando se a solicitação foi bem-sucedida\n",
    "if response.status_code == 200:\n",
    "    # Convertendo a resposta para JSON\n",
    "    data = response.json()\n",
    "    \n",
    "    # Verificando se há dados de localização para São Paulo\n",
    "    if data:\n",
    "        # Obtendo as coordenadas de São Paulo\n",
    "        latitude = data[0]['lat']\n",
    "        longitude = data[0]['lon']\n",
    "        \n",
    "        # Parâmetros da consulta para buscar cidades próximas a São Paulo dentro de um raio de 100km\n",
    "        params = {\n",
    "            \"format\": \"json\",\n",
    "            \"lat\": latitude,\n",
    "            \"lon\": longitude,\n",
    "            \"country\": \"Brazil\",\n",
    "            \"radius\": 100000  # Raio de 100km\n",
    "        }\n",
    "        \n",
    "        # Fazendo uma nova solicitação GET para buscar cidades próximas a São Paulo\n",
    "        response = requests.get(url, params=params)\n",
    "        \n",
    "        # Verificando se a solicitação foi bem-sucedida\n",
    "        if response.status_code == 200:\n",
    "            # Convertendo a resposta para JSON\n",
    "            data = response.json()\n",
    "            \n",
    "            # Imprimindo os dados completos de cada cidade\n",
    "            print(data)\n",
    "        else:\n",
    "            print(\"Erro ao obter as cidades próximas a São Paulo. Código de status:\", response.status_code)\n",
    "    else:\n",
    "        print(\"Não foi possível encontrar as coordenadas de São Paulo.\")\n",
    "else:\n",
    "    print(\"Erro ao fazer a solicitação para São Paulo. Código de status:\", response.status_code)\n"
   ]
  },
  {
   "cell_type": "code",
   "execution_count": null,
   "metadata": {},
   "outputs": [],
   "source": []
  },
  {
   "cell_type": "code",
   "execution_count": 17,
   "metadata": {},
   "outputs": [],
   "source": [
    "import requests\n",
    "\n",
    "# URL da API Nominatim\n",
    "url = \"https://nominatim.openstreetmap.org/search\"\n",
    "\n",
    "# Consulta para São Paulo\n",
    "query = \"São Paulo, Brazil\"\n",
    "\n",
    "# Parâmetros da consulta\n",
    "params = {\n",
    "    \"q\": query,\n",
    "    \"format\": \"json\"\n",
    "}\n",
    "\n",
    "# Fazendo a solicitação GET para obter as coordenadas de São Paulo\n",
    "response = requests.get(url, params=params)\n",
    "\n",
    "# Verificando se a solicitação foi bem-sucedida\n",
    "if response.status_code == 200:\n",
    "    # Convertendo a resposta para JSON\n",
    "    data = response.json()\n",
    "    \n",
    "    # Verificando se há dados de localização para São Paulo\n",
    "    if data:\n",
    "        # Obtendo as coordenadas de São Paulo\n",
    "        latitude = data[0]['lat']\n",
    "        longitude = data[0]['lon']\n",
    "        \n",
    "        # Parâmetros da consulta para buscar cidades próximas a São Paulo dentro de um raio de 100km\n",
    "        params = {\n",
    "            \"format\": \"json\",\n",
    "            \"lat\": latitude,\n",
    "            \"lon\": longitude,\n",
    "            \"country\": \"Brazil\",\n",
    "            \"radius\": 100000  # Raio de 100km\n",
    "        }\n",
    "        \n",
    "        # Fazendo uma nova solicitação GET para buscar cidades próximas a São Paulo\n",
    "        response = requests.get(url, params=params)\n",
    "        \n",
    "        # Verificando se a solicitação foi bem-sucedida\n",
    "        if response.status_code == 200:\n",
    "            # Convertendo a resposta para JSON\n",
    "            data = response.json()\n",
    "            \n",
    "            # Imprimindo os nomes das cidades dentro do estado de São Paulo\n",
    "            for item in data:\n",
    "                if 'address' in item and 'city' in item['address']:\n",
    "                    print(item['address']['city'])\n",
    "        else:\n",
    "            print(\"Erro ao obter as cidades próximas a São Paulo. Código de status:\", response.status_code)\n",
    "    else:\n",
    "        print(\"Não foi possível encontrar as coordenadas de São Paulo.\")\n",
    "else:\n",
    "    print(\"Erro ao fazer a solicitação para São Paulo. Código de status:\", response.status_code)\n"
   ]
  },
  {
   "cell_type": "code",
   "execution_count": 16,
   "metadata": {},
   "outputs": [],
   "source": [
    "import requests\n",
    "\n",
    "# URL da API Nominatim\n",
    "url = \"https://nominatim.openstreetmap.org/search\"\n",
    "\n",
    "# Consulta para São Paulo\n",
    "query = \"São Paulo, Brazil\"\n",
    "\n",
    "# Parâmetros da consulta\n",
    "params = {\n",
    "    \"q\": query,\n",
    "    \"format\": \"json\"\n",
    "}\n",
    "\n",
    "# Fazendo a solicitação GET para obter as coordenadas de São Paulo\n",
    "response = requests.get(url, params=params)\n",
    "\n",
    "# Verificando se a solicitação foi bem-sucedida\n",
    "if response.status_code == 200:\n",
    "    # Convertendo a resposta para JSON\n",
    "    data = response.json()\n",
    "    \n",
    "    # Verificando se há dados de localização para São Paulo\n",
    "    if data:\n",
    "        # Obtendo as coordenadas de São Paulo\n",
    "        latitude = data[0]['lat']\n",
    "        longitude = data[0]['lon']\n",
    "        \n",
    "        # Parâmetros da consulta para buscar cidades próximas a São Paulo\n",
    "        params = {\n",
    "            \"format\": \"json\",\n",
    "            \"lat\": latitude,\n",
    "            \"lon\": longitude,\n",
    "            \"country\": \"Brazil\"\n",
    "        }\n",
    "        \n",
    "        # Fazendo uma nova solicitação GET para buscar cidades próximas a São Paulo\n",
    "        response = requests.get(url, params=params)\n",
    "        \n",
    "        # Verificando se a solicitação foi bem-sucedida\n",
    "        if response.status_code == 200:\n",
    "            # Convertendo a resposta para JSON\n",
    "            data = response.json()\n",
    "            \n",
    "            # Imprimindo os nomes das cidades dentro do estado de São Paulo\n",
    "            for item in data:\n",
    "                if 'address' in item and 'city' in item['address']:\n",
    "                    print(item['address']['city'])\n",
    "        else:\n",
    "            print(\"Erro ao obter as cidades próximas a São Paulo. Código de status:\", response.status_code)\n",
    "    else:\n",
    "        print(\"Não foi possível encontrar as coordenadas de São Paulo.\")\n",
    "else:\n",
    "    print(\"Erro ao fazer a solicitação para São Paulo. Código de status:\", response.status_code)\n"
   ]
  },
  {
   "cell_type": "code",
   "execution_count": null,
   "metadata": {},
   "outputs": [],
   "source": []
  },
  {
   "cell_type": "code",
   "execution_count": null,
   "metadata": {},
   "outputs": [],
   "source": []
  },
  {
   "cell_type": "code",
   "execution_count": 15,
   "metadata": {},
   "outputs": [
    {
     "ename": "KeyError",
     "evalue": "'address'",
     "output_type": "error",
     "traceback": [
      "\u001b[0;31m---------------------------------------------------------------------------\u001b[0m",
      "\u001b[0;31mKeyError\u001b[0m                                  Traceback (most recent call last)",
      "Cell \u001b[0;32mIn[15], line 47\u001b[0m\n\u001b[1;32m     45\u001b[0m     \u001b[38;5;66;03m# Imprimindo os nomes das cidades dentro do estado de São Paulo\u001b[39;00m\n\u001b[1;32m     46\u001b[0m     \u001b[38;5;28;01mfor\u001b[39;00m item \u001b[38;5;129;01min\u001b[39;00m data:\n\u001b[0;32m---> 47\u001b[0m         \u001b[38;5;28;01mif\u001b[39;00m \u001b[38;5;124m'\u001b[39m\u001b[38;5;124mcity\u001b[39m\u001b[38;5;124m'\u001b[39m \u001b[38;5;129;01min\u001b[39;00m \u001b[43mitem\u001b[49m\u001b[43m[\u001b[49m\u001b[38;5;124;43m'\u001b[39;49m\u001b[38;5;124;43maddress\u001b[39;49m\u001b[38;5;124;43m'\u001b[39;49m\u001b[43m]\u001b[49m:\n\u001b[1;32m     48\u001b[0m             \u001b[38;5;28mprint\u001b[39m(item[\u001b[38;5;124m'\u001b[39m\u001b[38;5;124maddress\u001b[39m\u001b[38;5;124m'\u001b[39m][\u001b[38;5;124m'\u001b[39m\u001b[38;5;124mcity\u001b[39m\u001b[38;5;124m'\u001b[39m])\n\u001b[1;32m     49\u001b[0m \u001b[38;5;28;01melse\u001b[39;00m:\n",
      "\u001b[0;31mKeyError\u001b[0m: 'address'"
     ]
    }
   ],
   "source": [
    "import requests\n",
    "\n",
    "# URL da API Nominatim\n",
    "url = \"https://nominatim.openstreetmap.org/search\"\n",
    "\n",
    "# Consulta para São Paulo\n",
    "query = \"São Paulo, Brazil\"\n",
    "\n",
    "# Parâmetros da consulta\n",
    "params = {\n",
    "    \"q\": query,\n",
    "    \"format\": \"json\"\n",
    "}\n",
    "\n",
    "# Fazendo a solicitação GET para obter as coordenadas de São Paulo\n",
    "response = requests.get(url, params=params)\n",
    "\n",
    "# Verificando se a solicitação foi bem-sucedida\n",
    "if response.status_code == 200:\n",
    "    # Convertendo a resposta para JSON\n",
    "    data = response.json()\n",
    "    \n",
    "    # Verificando se há dados de localização para São Paulo\n",
    "    if data:\n",
    "        # Obtendo as coordenadas de São Paulo\n",
    "        latitude = data[0]['lat']\n",
    "        longitude = data[0]['lon']\n",
    "        \n",
    "        # Parâmetros da consulta para buscar cidades próximas a São Paulo\n",
    "        params = {\n",
    "            \"format\": \"json\",\n",
    "            \"lat\": latitude,\n",
    "            \"lon\": longitude,\n",
    "            \"country\": \"Brazil\"\n",
    "        }\n",
    "        \n",
    "        # Fazendo uma nova solicitação GET para buscar cidades próximas a São Paulo\n",
    "        response = requests.get(url, params=params)\n",
    "        \n",
    "        # Verificando se a solicitação foi bem-sucedida\n",
    "        if response.status_code == 200:\n",
    "            # Convertendo a resposta para JSON\n",
    "            data = response.json()\n",
    "            \n",
    "            # Imprimindo os nomes das cidades dentro do estado de São Paulo\n",
    "            for item in data:\n",
    "                if 'city' in item['address']:\n",
    "                    print(item['address']['city'])\n",
    "        else:\n",
    "            print(\"Erro ao obter as cidades próximas a São Paulo. Código de status:\", response.status_code)\n",
    "    else:\n",
    "        print(\"Não foi possível encontrar as coordenadas de São Paulo.\")\n",
    "else:\n",
    "    print(\"Erro ao fazer a solicitação para São Paulo. Código de status:\", response.status_code)\n"
   ]
  },
  {
   "cell_type": "code",
   "execution_count": null,
   "metadata": {},
   "outputs": [],
   "source": []
  },
  {
   "cell_type": "code",
   "execution_count": null,
   "metadata": {},
   "outputs": [],
   "source": []
  },
  {
   "cell_type": "code",
   "execution_count": 14,
   "metadata": {},
   "outputs": [
    {
     "name": "stdout",
     "output_type": "stream",
     "text": [
      "Erro ao fazer a solicitação. Código de status: 400\n"
     ]
    }
   ],
   "source": [
    "import requests\n",
    "\n",
    "# URL da API Nominatim\n",
    "url = \"https://nominatim.openstreetmap.org/search\"\n",
    "\n",
    "# Coordenadas de São Paulo\n",
    "latitude = -23.5505\n",
    "longitude = -46.6333\n",
    "\n",
    "# Parâmetros da consulta\n",
    "params = {\n",
    "    \"q\": \"\",\n",
    "    \"format\": \"json\",\n",
    "    \"lat\": latitude,\n",
    "    \"lon\": longitude,\n",
    "    \"state\": \"São Paulo\",  # Filtrando para o estado de São Paulo\n",
    "    \"country\": \"Brazil\"\n",
    "}\n",
    "\n",
    "# Fazendo a solicitação GET\n",
    "response = requests.get(url, params=params)\n",
    "\n",
    "# Verificando se a solicitação foi bem-sucedida\n",
    "if response.status_code == 200:\n",
    "    # Convertendo a resposta para JSON\n",
    "    data = response.json()\n",
    "    \n",
    "    # Imprimindo os nomes das cidades dentro do estado de São Paulo\n",
    "    for item in data:\n",
    "        if 'city' in item['address']:\n",
    "            print(item['address']['city'])\n",
    "else:\n",
    "    print(\"Erro ao fazer a solicitação. Código de status:\", response.status_code)\n"
   ]
  },
  {
   "cell_type": "code",
   "execution_count": 13,
   "metadata": {},
   "outputs": [
    {
     "name": "stdout",
     "output_type": "stream",
     "text": [
      "[{'place_id': 43873845, 'licence': 'Data © OpenStreetMap contributors, ODbL 1.0. http://osm.org/copyright', 'osm_type': 'relation', 'osm_id': 59470, 'lat': '-10.3333333', 'lon': '-53.2', 'class': 'boundary', 'type': 'administrative', 'place_rank': 4, 'importance': 0.8455773423061166, 'addresstype': 'country', 'name': 'Brasil', 'display_name': 'Brasil', 'boundingbox': ['-33.8694284', '5.2695808', '-73.9830625', '-28.6289646']}]\n"
     ]
    }
   ],
   "source": [
    "import requests\n",
    "\n",
    "# URL da API Nominatim\n",
    "url = \"https://nominatim.openstreetmap.org/search\"\n",
    "\n",
    "# Parâmetros da consulta\n",
    "params = {\n",
    "    \"q\": \"Brazil\",\n",
    "    \"format\": \"json\"\n",
    "}\n",
    "\n",
    "# Fazendo a solicitação GET\n",
    "response = requests.get(url, params=params)\n",
    "\n",
    "# Verificando se a solicitação foi bem-sucedida\n",
    "if response.status_code == 200:\n",
    "    # Convertendo a resposta para JSON\n",
    "    data = response.json()\n",
    "    \n",
    "    # Imprimindo os resultados\n",
    "    print(data)\n",
    "else:\n",
    "    print(\"Erro ao fazer a solicitação. Código de status:\", response.status_code)\n"
   ]
  },
  {
   "cell_type": "code",
   "execution_count": 10,
   "metadata": {},
   "outputs": [
    {
     "name": "stdout",
     "output_type": "stream",
     "text": [
      "Erro ao fazer a solicitação. Código de status: 400\n"
     ]
    }
   ],
   "source": [
    "import requests\n",
    "\n",
    "# URL da API Nominatim\n",
    "url = \"https://nominatim.openstreetmap.org/search\"\n",
    "\n",
    "# Parâmetros da consulta\n",
    "params = {\n",
    "    \"q\": \"Brazil\",\n",
    "    \"format\": \"json\",\n",
    "    \"country\": \"Brazil\",\n",
    "    \"limit\": 1000  # Aumentando o limite para garantir que todas as cidades sejam retornadas\n",
    "}\n",
    "\n",
    "# Fazendo a solicitação GET\n",
    "response = requests.get(url, params=params)\n",
    "\n",
    "# Verificando se a solicitação foi bem-sucedida\n",
    "if response.status_code == 200:\n",
    "    # Convertendo a resposta para JSON\n",
    "    data = response.json()\n",
    "    \n",
    "    # Imprimindo os nomes das cidades\n",
    "    for item in data:\n",
    "        if 'city' in item['address']:\n",
    "            print(item['address']['city'])\n",
    "else:\n",
    "    print(\"Erro ao fazer a solicitação. Código de status:\", response.status_code)\n"
   ]
  },
  {
   "cell_type": "code",
   "execution_count": null,
   "metadata": {},
   "outputs": [],
   "source": []
  },
  {
   "cell_type": "code",
   "execution_count": null,
   "metadata": {},
   "outputs": [],
   "source": []
  },
  {
   "cell_type": "code",
   "execution_count": 6,
   "metadata": {},
   "outputs": [
    {
     "name": "stdout",
     "output_type": "stream",
     "text": [
      "Erro ao obter os dados. Verifique sua conexão ou tente novamente mais tarde.\n"
     ]
    }
   ],
   "source": [
    "import requests\n",
    "\n",
    "# URL da API Nominatim\n",
    "url = \"https://nominatim.openstreetmap.org/search\"\n",
    "\n",
    "# Parâmetros da consulta\n",
    "params = {\n",
    "    \"q\": \"Brazil\",\n",
    "    \"format\": \"json\",\n",
    "    \"country\": \"Brazil\",\n",
    "    \"polygon_geojson\": 1,\n",
    "    \"limit\": 1000  # Aumentando o limite para garantir que todas as cidades sejam retornadas\n",
    "}\n",
    "\n",
    "# Fazendo a solicitação\n",
    "response = requests.get(url, params=params)\n",
    "\n",
    "# Verificando se a solicitação foi bem-sucedida e se a resposta está em JSON\n",
    "if response.status_code == 200 and response.headers.get('content-type') == 'application/json':\n",
    "    data = response.json()\n",
    "    \n",
    "    # Imprimindo os resultados brutos retornados pela API\n",
    "    print(data)\n",
    "else:\n",
    "    print(\"Erro ao obter os dados. Verifique sua conexão ou tente novamente mais tarde.\")\n"
   ]
  },
  {
   "cell_type": "code",
   "execution_count": 5,
   "metadata": {},
   "outputs": [
    {
     "name": "stdout",
     "output_type": "stream",
     "text": [
      "Erro ao obter os dados. Verifique sua conexão ou tente novamente mais tarde.\n"
     ]
    }
   ],
   "source": [
    "import requests\n",
    "\n",
    "# URL da API Nominatim\n",
    "url = \"https://nominatim.openstreetmap.org/search\"\n",
    "\n",
    "# Parâmetros da consulta\n",
    "params = {\n",
    "    \"q\": \"Brazil\",\n",
    "    \"format\": \"json\",\n",
    "    \"country\": \"Brazil\",\n",
    "    \"polygon_geojson\": 1,\n",
    "    \"limit\": 1000  # Aumentando o limite para garantir que todas as cidades sejam retornadas\n",
    "}\n",
    "\n",
    "# Fazendo a solicitação\n",
    "response = requests.get(url, params=params)\n",
    "\n",
    "# Verificando se a solicitação foi bem-sucedida e se a resposta está em JSON\n",
    "if response.status_code == 200 and response.headers.get('content-type') == 'application/json':\n",
    "    data = response.json()\n",
    "    \n",
    "    # Imprimindo as cidades\n",
    "    for item in data:\n",
    "        try:\n",
    "            print(item['address']['city'])\n",
    "        except KeyError:\n",
    "            pass  # Pular se 'city' não estiver presente nos dados\n",
    "else:\n",
    "    print(\"Erro ao obter os dados. Verifique sua conexão ou tente novamente mais tarde.\")\n"
   ]
  },
  {
   "cell_type": "code",
   "execution_count": null,
   "metadata": {},
   "outputs": [],
   "source": []
  },
  {
   "cell_type": "code",
   "execution_count": 4,
   "metadata": {},
   "outputs": [
    {
     "name": "stdout",
     "output_type": "stream",
     "text": [
      "Erro ao obter os dados. Verifique sua conexão ou tente novamente mais tarde.\n"
     ]
    }
   ],
   "source": [
    "import requests\n",
    "\n",
    "# URL da API Nominatim\n",
    "url = \"https://nominatim.openstreetmap.org/search\"\n",
    "\n",
    "# Parâmetros da consulta\n",
    "params = {\n",
    "    \"q\": \"Brazil\",\n",
    "    \"format\": \"json\",\n",
    "    \"country\": \"Brazil\",\n",
    "    \"polygon_geojson\": 1,\n",
    "    \"limit\": 1000  # Aumentando o limite para garantir que todas as cidades sejam retornadas\n",
    "}\n",
    "\n",
    "# Fazendo a solicitação\n",
    "response = requests.get(url, params=params)\n",
    "\n",
    "# Verificando se a solicitação foi bem-sucedida e se a resposta está em JSON\n",
    "if response.status_code == 200 and response.headers.get('content-type') == 'application/json':\n",
    "    data = response.json()\n",
    "    \n",
    "    # Imprimindo as informações relevantes\n",
    "    for item in data:\n",
    "        print(\"Latitude:\", item['lat'])\n",
    "        print(\"Longitude:\", item['lon'])\n",
    "        print(\"Nome:\", item['display_name'])\n",
    "        print()\n",
    "else:\n",
    "    print(\"Erro ao obter os dados. Verifique sua conexão ou tente novamente mais tarde.\")\n"
   ]
  },
  {
   "cell_type": "code",
   "execution_count": null,
   "metadata": {},
   "outputs": [],
   "source": []
  },
  {
   "cell_type": "code",
   "execution_count": 3,
   "metadata": {},
   "outputs": [
    {
     "name": "stdout",
     "output_type": "stream",
     "text": [
      "Erro ao obter os dados. Verifique sua conexão ou tente novamente mais tarde.\n"
     ]
    }
   ],
   "source": [
    "import requests\n",
    "\n",
    "# URL da API Nominatim\n",
    "url = \"https://nominatim.openstreetmap.org/search\"\n",
    "\n",
    "# Parâmetros da consulta\n",
    "params = {\n",
    "    \"q\": \"Brazil\",\n",
    "    \"format\": \"json\",\n",
    "    \"country\": \"Brazil\",\n",
    "    \"polygon_geojson\": 1,\n",
    "    \"limit\": 1000  # Aumentando o limite para garantir que todas as cidades sejam retornadas\n",
    "}\n",
    "\n",
    "# Fazendo a solicitação\n",
    "response = requests.get(url, params=params)\n",
    "\n",
    "# Verificando se a solicitação foi bem-sucedida e se a resposta está em JSON\n",
    "if response.status_code == 200 and response.headers.get('content-type') == 'application/json':\n",
    "    data = response.json()\n",
    "    \n",
    "    # Imprimindo as cidades\n",
    "    for item in data:\n",
    "        if 'city' in item['display_name']:\n",
    "            print(item['display_name'])\n",
    "else:\n",
    "    print(\"Erro ao obter os dados. Verifique sua conexão ou tente novamente mais tarde.\")\n"
   ]
  },
  {
   "cell_type": "code",
   "execution_count": null,
   "metadata": {},
   "outputs": [],
   "source": []
  },
  {
   "cell_type": "code",
   "execution_count": null,
   "metadata": {},
   "outputs": [],
   "source": []
  },
  {
   "cell_type": "code",
   "execution_count": 2,
   "metadata": {},
   "outputs": [
    {
     "name": "stdout",
     "output_type": "stream",
     "text": [
      "Erro ao obter os dados. Verifique sua conexão ou tente novamente mais tarde.\n"
     ]
    }
   ],
   "source": [
    "import requests\n",
    "\n",
    "# URL da API Nominatim\n",
    "url = \"https://nominatim.openstreetmap.org/search\"\n",
    "\n",
    "# Parâmetros da consulta\n",
    "params = {\n",
    "    \"q\": \"Brazil\",\n",
    "    \"format\": \"json\",\n",
    "    \"country\": \"Brazil\",\n",
    "    \"polygon_geojson\": 1,\n",
    "    \"limit\": 1000  # Aumentando o limite para garantir que todas as cidades sejam retornadas\n",
    "}\n",
    "\n",
    "# Fazendo a solicitação\n",
    "response = requests.get(url, params=params)\n",
    "\n",
    "# Verificando se a solicitação foi bem-sucedida e se a resposta está em JSON\n",
    "if response.status_code == 200 and response.headers.get('content-type') == 'application/json':\n",
    "    data = response.json()\n",
    "    \n",
    "    # Imprimindo as cidades\n",
    "    for city in data:\n",
    "        print(city['display_name'])\n",
    "else:\n",
    "    print(\"Erro ao obter os dados. Verifique sua conexão ou tente novamente mais tarde.\")\n"
   ]
  },
  {
   "cell_type": "code",
   "execution_count": null,
   "metadata": {},
   "outputs": [],
   "source": []
  },
  {
   "cell_type": "code",
   "execution_count": 1,
   "metadata": {},
   "outputs": [
    {
     "ename": "TypeError",
     "evalue": "string indices must be integers",
     "output_type": "error",
     "traceback": [
      "\u001b[0;31m---------------------------------------------------------------------------\u001b[0m",
      "\u001b[0;31mTypeError\u001b[0m                                 Traceback (most recent call last)",
      "Cell \u001b[0;32mIn[1], line 21\u001b[0m\n\u001b[1;32m     19\u001b[0m \u001b[38;5;66;03m# Imprimindo as cidades\u001b[39;00m\n\u001b[1;32m     20\u001b[0m \u001b[38;5;28;01mfor\u001b[39;00m city \u001b[38;5;129;01min\u001b[39;00m data:\n\u001b[0;32m---> 21\u001b[0m     \u001b[38;5;28mprint\u001b[39m(\u001b[43mcity\u001b[49m\u001b[43m[\u001b[49m\u001b[38;5;124;43m'\u001b[39;49m\u001b[38;5;124;43mdisplay_name\u001b[39;49m\u001b[38;5;124;43m'\u001b[39;49m\u001b[43m]\u001b[49m)\n",
      "\u001b[0;31mTypeError\u001b[0m: string indices must be integers"
     ]
    }
   ],
   "source": [
    "import requests\n",
    "\n",
    "# URL da API Nominatim\n",
    "url = \"https://nominatim.openstreetmap.org/search\"\n",
    "\n",
    "# Parâmetros da consulta\n",
    "params = {\n",
    "    \"q\": \"Brazil\",\n",
    "    \"format\": \"json\",\n",
    "    \"country\": \"Brazil\",\n",
    "    \"polygon_geojson\": 1,\n",
    "    \"limit\": 1000  # Aumentando o limite para garantir que todas as cidades sejam retornadas\n",
    "}\n",
    "\n",
    "# Fazendo a solicitação\n",
    "response = requests.get(url, params=params)\n",
    "data = response.json()\n",
    "\n",
    "# Imprimindo as cidades\n",
    "for city in data:\n",
    "    print(city['display_name'])\n"
   ]
  },
  {
   "cell_type": "code",
   "execution_count": null,
   "metadata": {},
   "outputs": [],
   "source": []
  },
  {
   "cell_type": "code",
   "execution_count": null,
   "metadata": {},
   "outputs": [],
   "source": []
  },
  {
   "cell_type": "code",
   "execution_count": null,
   "metadata": {},
   "outputs": [],
   "source": []
  },
  {
   "cell_type": "code",
   "execution_count": 1,
   "metadata": {},
   "outputs": [],
   "source": [
    "import requests"
   ]
  },
  {
   "cell_type": "code",
   "execution_count": 13,
   "metadata": {},
   "outputs": [
    {
     "name": "stdout",
     "output_type": "stream",
     "text": [
      "[{'origem': {'lat_gd': '-20.000000000', 'long_gd': '-50.000000000', 'referencial': 'sad69'}, 'resultado': {'lat_gd': '-20.000453158', 'long_gd': '-50.000449992', 'referencial': 'sirgas2000', 'sigma_lat': '0,080', 'sigma_long': '0,121'}, 'tipo_conversao': 'grid'}, {'origem': {'lat_gd': '-19.000000000', 'long_gd': '-51.000000000', 'referencial': 'sad69'}, 'resultado': {'lat_gd': '-19.000432394', 'long_gd': '-51.000446028', 'referencial': 'sirgas2000', 'sigma_lat': '0,335', 'sigma_long': '0,128'}, 'tipo_conversao': 'grid'}]\n"
     ]
    }
   ],
   "source": [
    "url_api = 'https://servicodados.ibge.gov.br/api/v1/progrid/latlongdec?pontos=[{\"lat\":-20,\"long\":-50},{\"lat\":-19,\"long\":-51}]&referencialEntrada=sad69'\n",
    "response = requests.get(url_api)\n",
    "dados = response.json()\n",
    "print(dados)"
   ]
  }
 ],
 "metadata": {
  "kernelspec": {
   "display_name": "Python 3",
   "language": "python",
   "name": "python3"
  },
  "language_info": {
   "codemirror_mode": {
    "name": "ipython",
    "version": 3
   },
   "file_extension": ".py",
   "mimetype": "text/x-python",
   "name": "python",
   "nbconvert_exporter": "python",
   "pygments_lexer": "ipython3",
   "version": "3.10.13"
  }
 },
 "nbformat": 4,
 "nbformat_minor": 2
}
