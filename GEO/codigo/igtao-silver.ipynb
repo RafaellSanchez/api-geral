{
 "cells": [
  {
   "cell_type": "code",
   "execution_count": 2,
   "metadata": {},
   "outputs": [],
   "source": [
    "import sqlite3"
   ]
  },
  {
   "cell_type": "code",
   "execution_count": 3,
   "metadata": {},
   "outputs": [],
   "source": [
    "caminho_banco_dados = '/workspaces/api-geral/GEO/sql/dados_geo.db'\n",
    "\n",
    "# Conectar ao banco de dados SQLite\n",
    "conn = sqlite3.connect(caminho_banco_dados)\n",
    "\n",
    "cursor = conn.cursor()"
   ]
  },
  {
   "cell_type": "code",
   "execution_count": 4,
   "metadata": {},
   "outputs": [
    {
     "name": "stdout",
     "output_type": "stream",
     "text": [
      "('350760505', 'Bragança Paulista', '3507605', 'Bragança Paulista', '3512', 'Macro Metropolitana Paulista', '35', 'São Paulo', 'SP', '3', 'Sudeste', 'SE', '2024-02-09')\n"
     ]
    }
   ],
   "source": [
    "query = \"select * from bronze_dados_geo where nm_mun = 'Bragança Paulista'\"\n",
    "cursor.execute(query)\n",
    "\n",
    "resultados = cursor.fetchall()\n",
    "\n",
    "# Exibir os resultados\n",
    "for linha in resultados:\n",
    "    print(linha)"
   ]
  },
  {
   "cell_type": "code",
   "execution_count": 6,
   "metadata": {},
   "outputs": [],
   "source": [
    "create_silver = '''\n",
    "CREATE TABLE IF NOT EXISTS silver_dados_geo (\n",
    "    id INTEGER,\n",
    "    nome TEXT,\n",
    "    idMunicipio INTEGER,\n",
    "    nmMunicipio TEXT,\n",
    "    id_mcrCidade INTEGER PRIMARY KEY,\n",
    "    nm_mcrCidade TEXT,\n",
    "    id_uf INTEGER,\n",
    "    uf TEXT,\n",
    "    siglaUf TEXT,\n",
    "    id_reg INTEGER,\n",
    "    nmEstado TEXT,\n",
    "    siglaEstado TEXT,\n",
    "    dtigtao DATE\n",
    ");\n",
    "'''"
   ]
  },
  {
   "cell_type": "code",
   "execution_count": 7,
   "metadata": {},
   "outputs": [
    {
     "data": {
      "text/plain": [
       "<sqlite3.Cursor at 0x7f1dd03e6240>"
      ]
     },
     "execution_count": 7,
     "metadata": {},
     "output_type": "execute_result"
    }
   ],
   "source": [
    "cursor.execute(create_silver)"
   ]
  },
  {
   "cell_type": "code",
   "execution_count": 17,
   "metadata": {},
   "outputs": [
    {
     "name": "stdout",
     "output_type": "stream",
     "text": [
      "Tabelas no banco de dados:\n",
      "bronze_dados_geo\n",
      "silver_dados_geo\n"
     ]
    }
   ],
   "source": [
    "# Consulta SQL para listar todas as tabelas no banco de dados\n",
    "show_tables_query = \"SELECT name FROM sqlite_master WHERE type='table';\"\n",
    "cursor.execute(show_tables_query)\n",
    "\n",
    "# Recuperar o resultado da consulta e imprimir as tabelas\n",
    "tables = cursor.fetchall()\n",
    "print(\"Tabelas no banco de dados:\")\n",
    "for table in tables:\n",
    "    print(table[0])"
   ]
  },
  {
   "cell_type": "code",
   "execution_count": 15,
   "metadata": {},
   "outputs": [
    {
     "data": {
      "text/plain": [
       "<sqlite3.Cursor at 0x7f1dd03e6240>"
      ]
     },
     "execution_count": 15,
     "metadata": {},
     "output_type": "execute_result"
    }
   ],
   "source": [
    "insert_data_query = '''\n",
    "INSERT OR IGNORE INTO silver_dados_geo (id, nome, idMunicipio, nmMunicipio, id_mcrCidade, nm_mcrCidade, id_uf, uf, siglaUf, id_reg, nmEstado, siglaEstado, dtigtao)\n",
    "SELECT\n",
    "    CAST(id AS INTEGER),\n",
    "    nome,\n",
    "    CAST(id_mun AS INTEGER) AS idMunicipio,\n",
    "    nm_mun AS nmMunicipio,\n",
    "    CAST(id_mcr AS INTEGER) AS id_mcrCidade,\n",
    "    nm_mcr AS nm_mcrCidade,\n",
    "    CAST(id_uf AS INTEGER),\n",
    "    nm_uf AS uf,\n",
    "    sigla_uf AS siglaUf,\n",
    "    CAST(id_reg AS INTEGER),\n",
    "    nm_reg AS nomeEstado,\n",
    "    sigla_rg AS siglaEstado,\n",
    "    strftime('%Y-%m-%d', 'now') AS dtigtao \n",
    "FROM bronze_dados_geo;\n",
    "'''\n",
    "cursor.execute(insert_data_query)\n",
    "\n"
   ]
  },
  {
   "cell_type": "code",
   "execution_count": 16,
   "metadata": {},
   "outputs": [
    {
     "name": "stdout",
     "output_type": "stream",
     "text": [
      "(110020510, 'Abunã', 1100205, 'Porto Velho', 1101, 'Madeira-Guaporé', 11, 'Rondônia', 'RO', 1, 'Norte', 'N', '2024-02-10')\n",
      "(110001505, \"Alta Floresta D'Oeste\", 1100015, \"Alta Floresta D'Oeste\", 1102, 'Leste Rondoniense', 11, 'Rondônia', 'RO', 1, 'Norte', 'N', '2024-02-10')\n",
      "(120020305, 'Cruzeiro do Sul', 1200203, 'Cruzeiro do Sul', 1201, 'Vale do Juruá', 12, 'Acre', 'AC', 1, 'Norte', 'N', '2024-02-10')\n",
      "(120001305, 'Acrelândia', 1200013, 'Acrelândia', 1202, 'Vale do Acre', 12, 'Acre', 'AC', 1, 'Norte', 'N', '2024-02-10')\n",
      "(130040905, 'Barcelos', 1300409, 'Barcelos', 1301, 'Norte Amazonense', 13, 'Amazonas', 'AM', 1, 'Norte', 'N', '2024-02-10')\n",
      "(130370015, 'Alterosa', 1303700, 'Santo Antônio do Içá', 1302, 'Sudoeste Amazonense', 13, 'Amazonas', 'AM', 1, 'Norte', 'N', '2024-02-10')\n",
      "(130002905, 'Alvarães', 1300029, 'Alvarães', 1303, 'Centro Amazonense', 13, 'Amazonas', 'AM', 1, 'Norte', 'N', '2024-02-10')\n",
      "(130090415, 'Açuanópolis', 1300904, 'Canutama', 1304, 'Sul Amazonense', 13, 'Amazonas', 'AM', 1, 'Norte', 'N', '2024-02-10')\n",
      "(140005005, 'Alto Alegre', 1400050, 'Alto Alegre', 1401, 'Norte de Roraima', 14, 'Roraima', 'RR', 1, 'Norte', 'N', '2024-02-10')\n",
      "(140020905, 'Caracaraí', 1400209, 'Caracaraí', 1402, 'Sul de Roraima', 14, 'Roraima', 'RR', 1, 'Norte', 'N', '2024-02-10')\n",
      "(150040405, 'Alenquer', 1500404, 'Alenquer', 1501, 'Baixo Amazonas', 15, 'Pará', 'PA', 1, 'Norte', 'N', '2024-02-10')\n",
      "(150030505, 'Afuá', 1500305, 'Afuá', 1502, 'Marajó', 15, 'Pará', 'PA', 1, 'Norte', 'N', '2024-02-10')\n",
      "(150650010, 'Americano', 1506500, 'Santa Izabel do Pará', 1503, 'Metropolitana de Belém', 15, 'Pará', 'PA', 1, 'Norte', 'N', '2024-02-10')\n",
      "(150010705, 'Abaetetuba', 1500107, 'Abaetetuba', 1504, 'Nordeste Paraense', 15, 'Pará', 'PA', 1, 'Norte', 'N', '2024-02-10')\n",
      "(150060205, 'Altamira', 1500602, 'Altamira', 1505, 'Sudoeste Paraense', 15, 'Pará', 'PA', 1, 'Norte', 'N', '2024-02-10')\n",
      "(150013105, 'Abel Figueiredo', 1500131, 'Abel Figueiredo', 1506, 'Sudeste Paraense', 15, 'Pará', 'PA', 1, 'Norte', 'N', '2024-02-10')\n",
      "(160010505, 'Amapá', 1600105, 'Amapá', 1601, 'Norte do Amapá', 16, 'Amapá', 'AP', 1, 'Norte', 'N', '2024-02-10')\n",
      "(160060007, 'Anauerapucu', 1600600, 'Santana', 1602, 'Sul do Amapá', 16, 'Amapá', 'AP', 1, 'Norte', 'N', '2024-02-10')\n",
      "(170025105, 'Abreulândia', 1700251, 'Abreulândia', 1701, 'Ocidental do Tocantins', 17, 'Tocantins', 'TO', 1, 'Norte', 'N', '2024-02-10')\n",
      "(170040005, 'Almas', 1700400, 'Almas', 1702, 'Oriental do Tocantins', 17, 'Tocantins', 'TO', 1, 'Norte', 'N', '2024-02-10')\n",
      "(210020405, 'Alcântara', 2100204, 'Alcântara', 2101, 'Norte Maranhense', 21, 'Maranhão', 'MA', 2, 'Nordeste', 'NE', '2024-02-10')\n",
      "(210005505, 'Açailândia', 2100055, 'Açailândia', 2102, 'Oeste Maranhense', 21, 'Maranhão', 'MA', 2, 'Nordeste', 'NE', '2024-02-10')\n",
      "(210095605, 'Arame', 2100956, 'Arame', 2103, 'Centro Maranhense', 21, 'Maranhão', 'MA', 2, 'Nordeste', 'NE', '2024-02-10')\n",
      "(210010505, 'Afonso Cunha', 2100105, 'Afonso Cunha', 2104, 'Leste Maranhense', 21, 'Maranhão', 'MA', 2, 'Nordeste', 'NE', '2024-02-10')\n",
      "(210050105, 'Alto Parnaíba', 2100501, 'Alto Parnaíba', 2105, 'Sul Maranhense', 21, 'Maranhão', 'MA', 2, 'Nordeste', 'NE', '2024-02-10')\n",
      "(220120005, 'Barras', 2201200, 'Barras', 2201, 'Norte Piauiense', 22, 'Piauí', 'PI', 2, 'Nordeste', 'NE', '2024-02-10')\n",
      "(220010305, 'Agricolândia', 2200103, 'Agricolândia', 2202, 'Centro-Norte Piauiense', 22, 'Piauí', 'PI', 2, 'Nordeste', 'NE', '2024-02-10')\n",
      "(220045905, 'Alvorada do Gurguéia', 2200459, 'Alvorada do Gurguéia', 2203, 'Sudoeste Piauiense', 22, 'Piauí', 'PI', 2, 'Nordeste', 'NE', '2024-02-10')\n",
      "(220005305, 'Acauã', 2200053, 'Acauã', 2204, 'Sudeste Piauiense', 22, 'Piauí', 'PI', 2, 'Nordeste', 'NE', '2024-02-10')\n",
      "(230580308, 'Abílio Martins', 2305803, 'Ipu', 2301, 'Noroeste Cearense', 23, 'Ceará', 'CE', 2, 'Nordeste', 'NE', '2024-02-10')\n",
      "(230015005, 'Acarape', 2300150, 'Acarape', 2302, 'Norte Cearense', 23, 'Ceará', 'CE', 2, 'Nordeste', 'NE', '2024-02-10')\n",
      "(230495410, 'Água Verde', 2304954, 'Guaiúba', 2303, 'Metropolitana de Fortaleza', 23, 'Ceará', 'CE', 2, 'Nordeste', 'NE', '2024-02-10')\n",
      "(230030905, 'Acopiara', 2300309, 'Acopiara', 2304, 'Sertões Cearenses', 23, 'Ceará', 'CE', 2, 'Nordeste', 'NE', '2024-02-10')\n",
      "(230533210, 'Açude dos Pinheiros', 2305332, 'Ibicuitinga', 2305, 'Jaguaribe', 23, 'Ceará', 'CE', 2, 'Nordeste', 'NE', '2024-02-10')\n",
      "(230750210, 'Amaniutuba', 2307502, 'Lavras da Mangabeira', 2306, 'Centro-Sul Cearense', 23, 'Ceará', 'CE', 2, 'Nordeste', 'NE', '2024-02-10')\n",
      "(230010105, 'Abaiara', 2300101, 'Abaiara', 2307, 'Sul Cearense', 23, 'Ceará', 'CE', 2, 'Nordeste', 'NE', '2024-02-10')\n",
      "(240020805, 'Açu', 2400208, 'Açu', 2401, 'Oeste Potiguar', 24, 'Rio Grande do Norte', 'RN', 2, 'Nordeste', 'NE', '2024-02-10')\n",
      "(240010905, 'Acari', 2400109, 'Acari', 2402, 'Central Potiguar', 24, 'Rio Grande do Norte', 'RN', 2, 'Nordeste', 'NE', '2024-02-10')\n",
      "(240150305, 'Barcelona', 2401503, 'Barcelona', 2403, 'Agreste Potiguar', 24, 'Rio Grande do Norte', 'RN', 2, 'Nordeste', 'NE', '2024-02-10')\n",
      "(240120605, 'Arês', 2401206, 'Arês', 2404, 'Leste Potiguar', 24, 'Rio Grande do Norte', 'RN', 2, 'Nordeste', 'NE', '2024-02-10')\n",
      "(250010605, 'Água Branca', 2500106, 'Água Branca', 2501, 'Sertão Paraibano', 25, 'Paraíba', 'PB', 2, 'Nordeste', 'NE', '2024-02-10')\n",
      "(250053605, 'Alcantil', 2500536, 'Alcantil', 2502, 'Borborema', 25, 'Paraíba', 'PB', 2, 'Nordeste', 'NE', '2024-02-10')\n",
      "(250030405, 'Alagoa Grande', 2500304, 'Alagoa Grande', 2503, 'Agreste Paraibano', 25, 'Paraíba', 'PB', 2, 'Nordeste', 'NE', '2024-02-10')\n",
      "(250060105, 'Alhandra', 2500601, 'Alhandra', 2504, 'Mata Paraibana', 25, 'Paraíba', 'PB', 2, 'Nordeste', 'NE', '2024-02-10')\n",
      "(260010405, 'Afogados da Ingazeira', 2600104, 'Afogados da Ingazeira', 2601, 'Sertão Pernambucano', 26, 'Pernambuco', 'PE', 2, 'Nordeste', 'NE', '2024-02-10')\n",
      "(260020305, 'Afrânio', 2600203, 'Afrânio', 2602, 'São Francisco Pernambucano', 26, 'Pernambuco', 'PE', 2, 'Nordeste', 'NE', '2024-02-10')\n",
      "(260030205, 'Agrestina', 2600302, 'Agrestina', 2603, 'Agreste Pernambucano', 26, 'Pernambuco', 'PE', 2, 'Nordeste', 'NE', '2024-02-10')\n",
      "(260040105, 'Água Preta', 2600401, 'Água Preta', 2604, 'Mata Pernambucana', 26, 'Pernambuco', 'PE', 2, 'Nordeste', 'NE', '2024-02-10')\n",
      "(260005405, 'Abreu e Lima', 2600054, 'Abreu e Lima', 2605, 'Metropolitana de Recife', 26, 'Pernambuco', 'PE', 2, 'Nordeste', 'NE', '2024-02-10')\n",
      "(270010205, 'Água Branca', 2700102, 'Água Branca', 2701, 'Sertão Alagoano', 27, 'Alagoas', 'AL', 2, 'Nordeste', 'NE', '2024-02-10')\n",
      "(270030005, 'Arapiraca', 2700300, 'Arapiraca', 2702, 'Agreste Alagoano', 27, 'Alagoas', 'AL', 2, 'Nordeste', 'NE', '2024-02-10')\n",
      "(270020105, 'Anadia', 2700201, 'Anadia', 2703, 'Leste Alagoano', 27, 'Alagoas', 'AL', 2, 'Nordeste', 'NE', '2024-02-10')\n",
      "(280140510, 'Altos Verdes', 2801405, 'Carira', 2801, 'Sertão Sergipano', 28, 'Sergipe', 'SE', 2, 'Nordeste', 'NE', '2024-02-10')\n",
      "(280020905, 'Aquidabã', 2800209, 'Aquidabã', 2802, 'Agreste Sergipano', 28, 'Sergipe', 'SE', 2, 'Nordeste', 'NE', '2024-02-10')\n",
      "(280010005, 'Amparo do São Francisco', 2800100, 'Amparo do São Francisco', 2803, 'Leste Sergipano', 28, 'Sergipe', 'SE', 2, 'Nordeste', 'NE', '2024-02-10')\n",
      "(292810910, 'Açudina', 2928109, 'Santa Maria da Vitória', 2901, 'Extremo Oeste Baiano', 29, 'Bahia', 'BA', 2, 'Nordeste', 'NE', '2024-02-10')\n",
      "(290020705, 'Abaré', 2900207, 'Abaré', 2902, 'Vale São-Franciscano da Bahia', 29, 'Bahia', 'BA', 2, 'Nordeste', 'NE', '2024-02-10')\n",
      "(292930510, 'Afligidos', 2929305, 'São Gonçalo dos Campos', 2903, 'Centro Norte Baiano', 29, 'Bahia', 'BA', 2, 'Nordeste', 'NE', '2024-02-10')\n",
      "(291790410, 'Abadia', 2917904, 'Jandaíra', 2904, 'Nordeste Baiano', 29, 'Bahia', 'BA', 2, 'Nordeste', 'NE', '2024-02-10')\n",
      "(290570110, 'Abrantes', 2905701, 'Camaçari', 2905, 'Metropolitana de Salvador', 29, 'Bahia', 'BA', 2, 'Nordeste', 'NE', '2024-02-10')\n",
      "(290010805, 'Abaíra', 2900108, 'Abaíra', 2906, 'Centro Sul Baiano', 29, 'Bahia', 'BA', 2, 'Nordeste', 'NE', '2024-02-10')\n",
      "(290080105, 'Alcobaça', 2900801, 'Alcobaça', 2907, 'Sul Baiano', 29, 'Bahia', 'BA', 2, 'Nordeste', 'NE', '2024-02-10')\n",
      "(310450205, 'Arinos', 3104502, 'Arinos', 3101, 'Noroeste de Minas', 31, 'Minas Gerais', 'MG', 3, 'Sudeste', 'SE', '2024-02-10')\n",
      "(310850310, 'Adão Colares', 3108503, 'Botumirim', 3102, 'Norte de Minas', 31, 'Minas Gerais', 'MG', 3, 'Sudeste', 'SE', '2024-02-10')\n",
      "(311350310, 'Abadia de Carbonita', 3113503, 'Carbonita', 3103, 'Jequitinhonha', 31, 'Minas Gerais', 'MG', 3, 'Sudeste', 'SE', '2024-02-10')\n",
      "(310090607, 'Água Quente', 3100906, 'Águas Formosas', 3104, 'Vale do Mucuri', 31, 'Minas Gerais', 'MG', 3, 'Sudeste', 'SE', '2024-02-10')\n",
      "(310010405, 'Abadia dos Dourados', 3100104, 'Abadia dos Dourados', 3105, 'Triângulo Mineiro/Alto Paranaíba', 31, 'Minas Gerais', 'MG', 3, 'Sudeste', 'SE', '2024-02-10')\n",
      "(310020305, 'Abaeté', 3100203, 'Abaeté', 3106, 'Central Mineira', 31, 'Minas Gerais', 'MG', 3, 'Sudeste', 'SE', '2024-02-10')\n",
      "(313190110, 'Acuruí', 3131901, 'Itabirito', 3107, 'Metropolitana de Belo Horizonte', 31, 'Minas Gerais', 'MG', 3, 'Sudeste', 'SE', '2024-02-10')\n",
      "(310050005, 'Açucena', 3100500, 'Açucena', 3108, 'Vale do Rio Doce', 31, 'Minas Gerais', 'MG', 3, 'Sudeste', 'SE', '2024-02-10')\n",
      "(310080705, 'Aguanil', 3100807, 'Aguanil', 3109, 'Oeste de Minas', 31, 'Minas Gerais', 'MG', 3, 'Sudeste', 'SE', '2024-02-10')\n",
      "(311770210, 'Águas de Contendas', 3117702, 'Conceição do Rio Verde', 3110, 'Sul/Sudoeste de Minas', 31, 'Minas Gerais', 'MG', 3, 'Sudeste', 'SE', '2024-02-10')\n",
      "(310163105, 'Alfredo Vasconcelos', 3101631, 'Alfredo Vasconcelos', 3111, 'Campo das Vertentes', 31, 'Minas Gerais', 'MG', 3, 'Sudeste', 'SE', '2024-02-10')\n",
      "(313840110, 'Abaíba', 3138401, 'Leopoldina', 3112, 'Zona da Mata', 31, 'Minas Gerais', 'MG', 3, 'Sudeste', 'SE', '2024-02-10')\n",
      "(320016905, 'Água Doce do Norte', 3200169, 'Água Doce do Norte', 3201, 'Noroeste Espírito-santense', 32, 'Espírito Santo', 'ES', 3, 'Sudeste', 'SE', '2024-02-10')\n",
      "(320313010, 'Acioli', 3203130, 'João Neiva', 3202, 'Litoral Norte Espírito-santense', 32, 'Espírito Santo', 'ES', 3, 'Sudeste', 'SE', '2024-02-10')\n",
      "(320010205, 'Afonso Cláudio', 3200102, 'Afonso Cláudio', 3203, 'Central Espírito-santense', 32, 'Espírito Santo', 'ES', 3, 'Sudeste', 'SE', '2024-02-10')\n",
      "(320480710, 'Airituba', 3204807, 'São José do Calçado', 3204, 'Sul Espírito-santense', 32, 'Espírito Santo', 'ES', 3, 'Sudeste', 'SE', '2024-02-10')\n",
      "(330015905, 'Aperibé', 3300159, 'Aperibé', 3301, 'Noroeste Fluminense', 33, 'Rio de Janeiro', 'RJ', 3, 'Sudeste', 'SE', '2024-02-10')\n",
      "(330500007, 'Atafona', 3305000, 'São João da Barra', 3302, 'Norte Fluminense', 33, 'Rio de Janeiro', 'RJ', 3, 'Sudeste', 'SE', '2024-02-10')\n",
      "(330095110, 'Afonso Arinos', 3300951, 'Comendador Levy Gasparian', 3303, 'Centro Fluminense', 33, 'Rio de Janeiro', 'RJ', 3, 'Sudeste', 'SE', '2024-02-10')\n",
      "(330560420, 'Aldeia Velha', 3305604, 'Silva Jardim', 3304, 'Baixadas', 33, 'Rio de Janeiro', 'RJ', 3, 'Sudeste', 'SE', '2024-02-10')\n",
      "(330450810, 'Abarracamento', 3304508, 'Rio das Flores', 3305, 'Sul Fluminense', 33, 'Rio de Janeiro', 'RJ', 3, 'Sudeste', 'SE', '2024-02-10')\n",
      "(330620610, 'Andrade Pinto', 3306206, 'Vassouras', 3306, 'Metropolitana do Rio de Janeiro', 33, 'Rio de Janeiro', 'RJ', 3, 'Sudeste', 'SE', '2024-02-10')\n",
      "(350020405, 'Adolfo', 3500204, 'Adolfo', 3501, 'São José do Rio Preto', 35, 'São Paulo', 'SP', 3, 'Sudeste', 'SE', '2024-02-10')\n",
      "(351560810, 'Agulha', 3515608, 'Fernando Prestes', 3502, 'Ribeirão Preto', 35, 'São Paulo', 'SP', 3, 'Sudeste', 'SE', '2024-02-10')\n",
      "(350110305, 'Alto Alegre', 3501103, 'Alto Alegre', 3503, 'Araçatuba', 35, 'São Paulo', 'SP', 3, 'Sudeste', 'SE', '2024-02-10')\n",
      "(350055005, 'Águas de Santa Bárbara', 3500550, 'Águas de Santa Bárbara', 3504, 'Bauru', 35, 'São Paulo', 'SP', 3, 'Sudeste', 'SE', '2024-02-10')\n",
      "(354890610, 'Água Vermelha', 3548906, 'São Carlos', 3505, 'Araraquara', 35, 'São Paulo', 'SP', 3, 'Sudeste', 'SE', '2024-02-10')\n",
      "(350060005, 'Águas de São Pedro', 3500600, 'Águas de São Pedro', 3506, 'Piracicaba', 35, 'São Paulo', 'SP', 3, 'Sudeste', 'SE', '2024-02-10')\n",
      "(350030305, 'Aguaí', 3500303, 'Aguaí', 3507, 'Campinas', 35, 'São Paulo', 'SP', 3, 'Sudeste', 'SE', '2024-02-10')\n",
      "(350010505, 'Adamantina', 3500105, 'Adamantina', 3508, 'Presidente Prudente', 35, 'São Paulo', 'SP', 3, 'Sudeste', 'SE', '2024-02-10')\n",
      "(350140005, 'Álvaro de Carvalho', 3501400, 'Álvaro de Carvalho', 3509, 'Marília', 35, 'São Paulo', 'SP', 3, 'Sudeste', 'SE', '2024-02-10')\n",
      "(355420110, 'Águas Virtuosas', 3554201, 'Tejupá', 3510, 'Assis', 35, 'São Paulo', 'SP', 3, 'Sudeste', 'SE', '2024-02-10')\n",
      "(350075805, 'Alambari', 3500758, 'Alambari', 3511, 'Itapetininga', 35, 'São Paulo', 'SP', 3, 'Sudeste', 'SE', '2024-02-10')\n",
      "(350115205, 'Alumínio', 3501152, 'Alumínio', 3512, 'Macro Metropolitana Paulista', 35, 'São Paulo', 'SP', 3, 'Sudeste', 'SE', '2024-02-10')\n",
      "(350250705, 'Aparecida', 3502507, 'Aparecida', 3513, 'Vale do Paraíba Paulista', 35, 'São Paulo', 'SP', 3, 'Sudeste', 'SE', '2024-02-10')\n",
      "(352330510, 'Ana Dias', 3523305, 'Itariri', 3514, 'Litoral Sul Paulista', 35, 'São Paulo', 'SP', 3, 'Sudeste', 'SE', '2024-02-10')\n",
      "(355030801, 'Água Rasa', 3550308, 'São Paulo', 3515, 'Metropolitana de São Paulo', 35, 'São Paulo', 'SP', 3, 'Sudeste', 'SE', '2024-02-10')\n",
      "(412730410, 'Adhemar de Barros', 4127304, 'Terra Rica', 4101, 'Noroeste Paranaense', 41, 'Paraná', 'PR', 4, 'Sul', 'S', '2024-02-10')\n",
      "(411080506, 'Águas de Jurema', 4110805, 'Iretama', 4102, 'Centro Ocidental Paranaense', 41, 'Paraná', 'PR', 4, 'Sul', 'S', '2024-02-10')\n",
      "(411750310, 'Água Boa', 4117503, 'Paiçandu', 4103, 'Norte Central Paranaense', 41, 'Paraná', 'PR', 4, 'Sul', 'S', '2024-02-10')\n",
      "(410010305, 'Abatiá', 4100103, 'Abatiá', 4104, 'Norte Pioneiro Paranaense', 41, 'Paraná', 'PR', 4, 'Sul', 'S', '2024-02-10')\n",
      "(410490710, 'Abapã', 4104907, 'Castro', 4105, 'Centro Oriental Paranaense', 41, 'Paraná', 'PR', 4, 'Sul', 'S', '2024-02-10')\n",
      "(411560607, 'Agro Cafeeira', 4115606, 'Matelândia', 4106, 'Oeste Paranaense', 41, 'Paraná', 'PR', 4, 'Sul', 'S', '2024-02-10')\n",
      "(410450125, 'Alto Faraday', 4104501, 'Capanema', 4107, 'Sudoeste Paranaense', 41, 'Paraná', 'PR', 4, 'Sul', 'S', '2024-02-10')\n",
      "(412215610, 'Assentamento Ireno Alves dos Santos', 4122156, 'Rio Bonito do Iguaçu', 4108, 'Centro-Sul Paranaense', 41, 'Paraná', 'PR', 4, 'Sul', 'S', '2024-02-10')\n",
      "(410130905, 'Antônio Olinto', 4101309, 'Antônio Olinto', 4109, 'Sudeste Paranaense', 41, 'Paraná', 'PR', 4, 'Sul', 'S', '2024-02-10')\n",
      "(412220610, 'Açungui', 4122206, 'Rio Branco do Sul', 4110, 'Metropolitana de Curitiba', 41, 'Paraná', 'PR', 4, 'Sul', 'S', '2024-02-10')\n",
      "(420010105, 'Abelardo Luz', 4200101, 'Abelardo Luz', 4201, 'Oeste Catarinense', 42, 'Santa Catarina', 'SC', 4, 'Sul', 'S', '2024-02-10')\n",
      "(420130705, 'Araquari', 4201307, 'Araquari', 4202, 'Norte Catarinense', 42, 'Santa Catarina', 'SC', 4, 'Sul', 'S', '2024-02-10')\n",
      "(420005105, 'Abdon Batista', 4200051, 'Abdon Batista', 4203, 'Serrana', 42, 'Santa Catarina', 'SC', 4, 'Sul', 'S', '2024-02-10')\n",
      "(420020005, 'Agrolândia', 4200200, 'Agrolândia', 4204, 'Vale do Itajaí', 42, 'Santa Catarina', 'SC', 4, 'Sul', 'S', '2024-02-10')\n",
      "(420060605, 'Águas Mornas', 4200606, 'Águas Mornas', 4205, 'Grande Florianópolis', 42, 'Santa Catarina', 'SC', 4, 'Sul', 'S', '2024-02-10')\n",
      "(420610810, 'Aiurê', 4206108, 'Grão-Pará', 4206, 'Sul Catarinense', 42, 'Santa Catarina', 'SC', 4, 'Sul', 'S', '2024-02-10')\n",
      "(430745007, 'Açoita Cavalo', 4307450, 'Esperança do Sul', 4301, 'Noroeste Rio-grandense', 43, 'Rio Grande do Sul', 'RS', 4, 'Sul', 'S', '2024-02-10')\n",
      "(430066105, 'André da Rocha', 4300661, 'André da Rocha', 4302, 'Nordeste Rio-grandense', 43, 'Rio Grande do Sul', 'RS', 4, 'Sul', 'S', '2024-02-10')\n",
      "(430010905, 'Agudo', 4300109, 'Agudo', 4303, 'Centro Ocidental Rio-grandense', 43, 'Rio Grande do Sul', 'RS', 4, 'Sul', 'S', '2024-02-10')\n",
      "(431570110, 'Albardão', 4315701, 'Rio Pardo', 4304, 'Centro Oriental Rio-grandense', 43, 'Rio Grande do Sul', 'RS', 4, 'Sul', 'S', '2024-02-10')\n",
      "(431350811, 'Aguapés', 4313508, 'Osório', 4305, 'Metropolitana de Porto Alegre', 43, 'Rio Grande do Sul', 'RS', 4, 'Sul', 'S', '2024-02-10')\n",
      "(430003405, 'Aceguá', 4300034, 'Aceguá', 4306, 'Sudoeste Rio-grandense', 43, 'Rio Grande do Sul', 'RS', 4, 'Sul', 'S', '2024-02-10')\n",
      "(430512410, 'Alto Alegre', 4305124, 'Cerrito', 4307, 'Sudeste Rio-grandense', 43, 'Rio Grande do Sul', 'RS', 4, 'Sul', 'S', '2024-02-10')\n",
      "(500320710, 'Albuquerque', 5003207, 'Corumbá', 5001, 'Pantanais Sul Mato-grossense', 50, 'Mato Grosso do Sul', 'MS', 5, 'Centro-Oeste', 'CO', '2024-02-10')\n",
      "(500750510, 'Água Boa', 5007505, 'Rochedo', 5002, 'Centro Norte de Mato Grosso do Sul', 50, 'Mato Grosso do Sul', 'MS', 5, 'Centro-Oeste', 'CO', '2024-02-10')\n",
      "(500020305, 'Água Clara', 5000203, 'Água Clara', 5003, 'Leste de Mato Grosso do Sul', 50, 'Mato Grosso do Sul', 'MS', 5, 'Centro-Oeste', 'CO', '2024-02-10')\n",
      "(500220910, 'Águas de Miranda', 5002209, 'Bonito', 5004, 'Sudoeste de Mato Grosso do Sul', 50, 'Mato Grosso do Sul', 'MS', 5, 'Centro-Oeste', 'CO', '2024-02-10')\n",
      "(510190210, 'Água da Prata', 5101902, 'Brasnorte', 5101, 'Norte Mato-grossense', 51, 'Mato Grosso', 'MT', 5, 'Centro-Oeste', 'CO', '2024-02-10')\n",
      "(510020105, 'Água Boa', 5100201, 'Água Boa', 5102, 'Nordeste Mato-grossense', 51, 'Mato Grosso', 'MT', 5, 'Centro-Oeste', 'CO', '2024-02-10')\n",
      "(510550710, 'Aguapeí', 5105507, 'Vila Bela da Santíssima Trindade', 5103, 'Sudoeste Mato-grossense', 51, 'Mato Grosso', 'MT', 5, 'Centro-Oeste', 'CO', '2024-02-10')\n",
      "(510010205, 'Acorizal', 5100102, 'Acorizal', 5104, 'Centro-Sul Mato-grossense', 51, 'Mato Grosso', 'MT', 5, 'Centro-Oeste', 'CO', '2024-02-10')\n",
      "(510420310, 'Alcantilado', 5104203, 'Guiratinga', 5105, 'Sudeste Mato-grossense', 51, 'Mato Grosso', 'MT', 5, 'Centro-Oeste', 'CO', '2024-02-10')\n",
      "(520890540, 'Águas de São João', 5208905, 'Goiás', 5201, 'Noroeste Goiano', 52, 'Goiás', 'GO', 5, 'Centro-Oeste', 'CO', '2024-02-10')\n",
      "(520055505, 'Alto Horizonte', 5200555, 'Alto Horizonte', 5202, 'Norte Goiano', 52, 'Goiás', 'GO', 5, 'Centro-Oeste', 'CO', '2024-02-10')\n",
      "(520005005, 'Abadia de Goiás', 5200050, 'Abadia de Goiás', 5203, 'Centro Goiano', 52, 'Goiás', 'GO', 5, 'Centro-Oeste', 'CO', '2024-02-10')\n",
      "(520010005, 'Abadiânia', 5200100, 'Abadiânia', 5204, 'Leste Goiano', 52, 'Goiás', 'GO', 5, 'Centro-Oeste', 'CO', '2024-02-10')\n",
      "(520013405, 'Acreúna', 5200134, 'Acreúna', 5205, 'Sul Goiano', 52, 'Goiás', 'GO', 5, 'Centro-Oeste', 'CO', '2024-02-10')\n",
      "(530010805, 'Brasília', 5300108, 'Brasília', 5301, 'Distrito Federal', 53, 'Distrito Federal', 'DF', 5, 'Centro-Oeste', 'CO', '2024-02-10')\n"
     ]
    }
   ],
   "source": [
    "cursor.execute(insert_data_query)\n",
    "\n",
    "query = \"select * from silver_dados_geo\"\n",
    "cursor.execute(query)\n",
    "\n",
    "resultados = cursor.fetchall()\n",
    "\n",
    "# Exibir os resultados\n",
    "for linha in resultados:\n",
    "    print(linha)"
   ]
  }
 ],
 "metadata": {
  "kernelspec": {
   "display_name": "Python 3",
   "language": "python",
   "name": "python3"
  },
  "language_info": {
   "codemirror_mode": {
    "name": "ipython",
    "version": 3
   },
   "file_extension": ".py",
   "mimetype": "text/x-python",
   "name": "python",
   "nbconvert_exporter": "python",
   "pygments_lexer": "ipython3",
   "version": "3.10.13"
  }
 },
 "nbformat": 4,
 "nbformat_minor": 2
}
