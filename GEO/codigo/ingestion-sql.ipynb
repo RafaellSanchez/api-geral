{
 "cells": [
  {
   "cell_type": "code",
   "execution_count": 14,
   "metadata": {},
   "outputs": [],
   "source": [
    "import sqlite3\n",
    "import uuid\n",
    "\n",
    "# Especificar o caminho para o banco de dados SQLite\n",
    "caminho_banco_dados = '/workspaces/api-geral/GEO/sql/dados_geo.db'\n",
    "\n",
    "# Conectar ao banco de dados SQLite (ou criar um novo se não existir)\n",
    "conn = sqlite3.connect(caminho_banco_dados)\n",
    "\n",
    "# Criar um cursor para executar comandos SQL\n",
    "cursor = conn.cursor()\n",
    "\n",
    "# Criar tabela se não existir, adicionando uma nova coluna 'uuid' como chave primária\n",
    "cursor.execute('''CREATE TABLE IF NOT EXISTS bronze_dados_geo (\n",
    "                    uuid TEXT PRIMARY KEY,\n",
    "                    id TEXT,\n",
    "                    nome TEXT,\n",
    "                    id_mun TEXT,\n",
    "                    nm_mun TEXT,\n",
    "                    id_mcr TEXT,\n",
    "                    nm_mcr TEXT,\n",
    "                    id_uf TEXT,\n",
    "                    nm_uf TEXT,\n",
    "                    sigla_uf TEXT,\n",
    "                    id_reg TEXT,\n",
    "                    nm_reg TEXT,\n",
    "                    sigla_rg TEXT,\n",
    "                    dtigtao DATE\n",
    "                )''')\n",
    "\n",
    "# Caminho para o arquivo de dados\n",
    "file = '/workspaces/api-geral/GEO/dados/dados_geo.txt'\n",
    "\n",
    "# Abrir e ler o arquivo .txt\n",
    "with open(file, 'r') as arquivo:\n",
    "    linhas = arquivo.readlines()\n",
    "\n",
    "    # Ignorar o cabeçalho\n",
    "    cabecalho = linhas.pop(0)\n",
    "\n",
    "    # Inserir dados na tabela, gerando valores únicos para a nova coluna 'uuid'\n",
    "    for linha in linhas:\n",
    "        dados = linha.strip().split(';')\n",
    "        # Gerar um novo UUID\n",
    "        novo_uuid = str(uuid.uuid4())\n",
    "        # Inserir na tabela, incluindo o novo UUID\n",
    "        cursor.execute(\"INSERT INTO bronze_dados_geo (uuid, id, nome, id_mun, nm_mun, id_mcr, nm_mcr, id_uf, nm_uf, sigla_uf, id_reg, nm_reg, sigla_rg, dtigtao) VALUES (?, ?, ?, ?, ?, ?, ?, ?, ?, ?, ?, ?, ?, ?)\", [novo_uuid] + dados)\n",
    "\n",
    "# Commit para salvar as alterações\n",
    "conn.commit()\n",
    "\n",
    "# Fechar a conexão\n",
    "conn.close()\n"
   ]
  }
 ],
 "metadata": {
  "kernelspec": {
   "display_name": "Python 3",
   "language": "python",
   "name": "python3"
  },
  "language_info": {
   "codemirror_mode": {
    "name": "ipython",
    "version": 3
   },
   "file_extension": ".py",
   "mimetype": "text/x-python",
   "name": "python",
   "nbconvert_exporter": "python",
   "pygments_lexer": "ipython3",
   "version": "3.10.13"
  }
 },
 "nbformat": 4,
 "nbformat_minor": 2
}
