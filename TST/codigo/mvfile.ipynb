{
 "cells": [
  {
   "cell_type": "code",
   "execution_count": 1,
   "metadata": {},
   "outputs": [],
   "source": [
    "import os"
   ]
  },
  {
   "cell_type": "code",
   "execution_count": 4,
   "metadata": {},
   "outputs": [
    {
     "name": "stdout",
     "output_type": "stream",
     "text": [
      "dados_fake.txt\n"
     ]
    }
   ],
   "source": [
    "# file = '/workspaces/api-geral/PRJ/dados/dados_fake.txt'\n",
    "file = '/workspaces/api-geral/PRJ/dados/'\n",
    "\n",
    "arquivo = os.listdir(file)\n",
    "\n",
    "for i in arquivo:\n",
    "    print(i)"
   ]
  },
  {
   "cell_type": "code",
   "execution_count": 5,
   "metadata": {},
   "outputs": [],
   "source": [
    "import shutil"
   ]
  },
  {
   "cell_type": "code",
   "execution_count": 7,
   "metadata": {},
   "outputs": [
    {
     "name": "stdout",
     "output_type": "stream",
     "text": [
      "movendo arquivo\n"
     ]
    }
   ],
   "source": [
    "arquivo = '/workspaces/api-geral/PRJ/dados/dados_fake.txt'\n",
    "destino = '/workspaces/api-geral/TST/dados/'\n",
    "\n",
    "mv = shutil.copy(arquivo, destino)\n",
    "print('movendo arquivo')"
   ]
  }
 ],
 "metadata": {
  "kernelspec": {
   "display_name": "Python 3",
   "language": "python",
   "name": "python3"
  },
  "language_info": {
   "codemirror_mode": {
    "name": "ipython",
    "version": 3
   },
   "file_extension": ".py",
   "mimetype": "text/x-python",
   "name": "python",
   "nbconvert_exporter": "python",
   "pygments_lexer": "ipython3",
   "version": "3.10.13"
  }
 },
 "nbformat": 4,
 "nbformat_minor": 2
}
