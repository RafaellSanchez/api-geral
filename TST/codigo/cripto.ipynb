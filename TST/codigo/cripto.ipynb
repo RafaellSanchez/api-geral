{
 "cells": [
  {
   "cell_type": "code",
   "execution_count": 1,
   "metadata": {},
   "outputs": [],
   "source": [
    "from cryptography.fernet import Fernet"
   ]
  },
  {
   "cell_type": "code",
   "execution_count": 2,
   "metadata": {},
   "outputs": [],
   "source": [
    "# Gerar uma chave de criptografia\n",
    "key = Fernet.generate_key()\n",
    "cipher_suite = Fernet(key)"
   ]
  },
  {
   "cell_type": "code",
   "execution_count": 11,
   "metadata": {},
   "outputs": [
    {
     "name": "stdout",
     "output_type": "stream",
     "text": [
      "<class 'pandas.core.frame.DataFrame'>\n",
      "RangeIndex: 30 entries, 0 to 29\n",
      "Data columns (total 11 columns):\n",
      " #   Column     Non-Null Count  Dtype  \n",
      "---  ------     --------------  -----  \n",
      " 0   nome       30 non-null     object \n",
      " 1   cpf        30 non-null     object \n",
      " 2   email      30 non-null     object \n",
      " 3   telefone   30 non-null     object \n",
      " 4   pagamento  30 non-null     float64\n",
      " 5   cidade     30 non-null     object \n",
      " 6   estado     30 non-null     object \n",
      " 7   endereco   30 non-null     object \n",
      " 8   empresa    30 non-null     object \n",
      " 9   pais       30 non-null     object \n",
      " 10  data       30 non-null     object \n",
      "dtypes: float64(1), object(10)\n",
      "memory usage: 2.7+ KB\n"
     ]
    }
   ],
   "source": [
    "import pandas as pd\n",
    "file = '/workspaces/api-geral/TST/dados/dados_fake.txt'\n",
    "\n",
    "df = pd.read_csv(file, delimiter=';')\n",
    "# print(df)\n",
    "\n",
    "df = pd.DataFrame(df)\n",
    "df.info()"
   ]
  },
  {
   "cell_type": "code",
   "execution_count": 12,
   "metadata": {},
   "outputs": [
    {
     "name": "stdout",
     "output_type": "stream",
     "text": [
      "Arquivo criptogrado: dados_fake.bin\n",
      "local: /workspaces/api-geral/TST/dados/\n"
     ]
    }
   ],
   "source": [
    "#exemplo de cripto quando estiver utilizando um dataframe\n",
    "json_string = df.to_json()\n",
    "\n",
    "encrypted_data = cipher_suite.encrypt(json_string.encode())\n",
    "\n",
    "caminho = '/workspaces/api-geral/TST/dados/'\n",
    "arquivo_cript = 'dados_fake.bin'\n",
    "\n",
    "with open(f\"{caminho}{arquivo_cript}\", \"wb\") as file:\n",
    "    file.write(encrypted_data)\n",
    "    print(f'Arquivo criptogrado: {arquivo_cript}')\n",
    "    print(f'local: {caminho}')"
   ]
  },
  {
   "cell_type": "code",
   "execution_count": 14,
   "metadata": {},
   "outputs": [
    {
     "name": "stdout",
     "output_type": "stream",
     "text": [
      "                       nome             cpf                            email  \\\n",
      "0             Diogo Rezende  508.921.763-77           benjamin87@example.com   \n",
      "1              Anthony Melo  920.137.648-04               gnunes@example.net   \n",
      "2             Natália Cunha  903.487.521-05          melobenicio@example.com   \n",
      "3            Ryan das Neves  218.603.475-17        brendada-cruz@example.net   \n",
      "4      Luiz Fernando Castro  201.968.435-70        camposmanuela@example.com   \n",
      "5    Maria Cecília Caldeira  543.781.269-82        freitasraquel@example.org   \n",
      "6       Rafael da Conceição  294.853.670-74            leticia46@example.com   \n",
      "7        Sr. Rafael Cardoso  879.012.536-30    cunhapedro-miguel@example.net   \n",
      "8                Paulo Lima  087.316.452-08            marcelo22@example.com   \n",
      "9            Caroline Porto  498.620.731-87         ribeiropaulo@example.net   \n",
      "10  Sra. Isadora Cavalcanti  039.572.814-23       sabrinada-mota@example.com   \n",
      "11        Larissa Gonçalves  672.418.035-07           martinsana@example.com   \n",
      "12         Ana Lívia Farias  928.546.130-15            woliveira@example.org   \n",
      "13            Lara Silveira  417.359.826-28               caio89@example.net   \n",
      "14        Dra. Maitê Barros  684.971.052-49               ccosta@example.net   \n",
      "15       Enzo Gabriel Costa  185.726.390-12           alicegomes@example.net   \n",
      "16    João Guilherme Campos  914.528.076-20              laraujo@example.com   \n",
      "17            Diogo Peixoto  623.147.590-52          xnascimento@example.net   \n",
      "18        Srta. Sophia Dias  974.180.653-10        biancafreitas@example.org   \n",
      "19               Cauê Pinto  860.135.942-60               yago23@example.org   \n",
      "20           Isabella Rocha  376.241.890-03       thalescarvalho@example.net   \n",
      "21     Ana Lívia Cavalcanti  846.071.532-90            pcarvalho@example.net   \n",
      "22        Maria Alice Porto  869.037.452-38         diashenrique@example.com   \n",
      "23               Igor Souza  490.536.172-99  luiz-gustavorezende@example.net   \n",
      "24       Dra. Caroline Melo  053.897.416-84   costelamaria-julia@example.com   \n",
      "25        Ana Clara Cardoso  789.165.320-86       manuelapereira@example.net   \n",
      "26             Alícia Jesus  327.458.960-83       teixeiradanilo@example.com   \n",
      "27              Ana Pereira  687.123.590-68             eda-cruz@example.org   \n",
      "28     Sra. Cecília Almeida  406.935.827-74       emillyda-rocha@example.com   \n",
      "29         Marcela da Cunha  370.596.814-93              kda-paz@example.com   \n",
      "\n",
      "               telefone  pagamento                cidade              estado  \\\n",
      "0   +55 (071) 4139 5801       1615    da Conceição Verde          Pernambuco   \n",
      "1       (041) 0892-5173       2703      da Rosa da Prata      Rio de Janeiro   \n",
      "2       (071) 7672-6404       2541     da Rocha da Serra               Goiás   \n",
      "3   +55 (031) 3639-3488       2596              Carvalho             Roraima   \n",
      "4   +55 (084) 9707 0720       3184              Silveira             Alagoas   \n",
      "5          71 4094 9791       4250         Lima Paulista               Amapá   \n",
      "6   +55 (051) 6744 0009       3683      Nogueira de Dias                Acre   \n",
      "7      +55 84 3816 4795       1300      Martins do Campo      Rio de Janeiro   \n",
      "8      +55 21 9385 0646      10044              da Rocha             Alagoas   \n",
      "9      +55 11 7868-2328       5935                 Viana             Paraíba   \n",
      "10     +55 51 6535 6458       4269         Dias de Nunes   Rio Grande do Sul   \n",
      "11        0900 281 8856       4429               Pereira               Bahia   \n",
      "12      (051) 9268-3549       6760        Castro da Mata             Roraima   \n",
      "13      (071) 6957-6085       4254              Ferreira      Santa Catarina   \n",
      "14  +55 (021) 6869-7491       1488                Araújo         Mato Grosso   \n",
      "15      (011) 2248-5312       1554               Correia  Mato Grosso do Sul   \n",
      "16         71 8683-0444       5730                Novaes           Tocantins   \n",
      "17  +55 (011) 1155 9802       9594          Costa Grande               Piauí   \n",
      "18      (061) 0210-4370       4478                Santos                Pará   \n",
      "19         84 2171 7558       2130               Cardoso    Distrito Federal   \n",
      "20  +55 (051) 9470-6702       4888                Santos             Roraima   \n",
      "21        0300-744-5804       9164  Ribeiro de Gonçalves              Paraná   \n",
      "22        0800-150-7495       8277        Silva do Campo               Piauí   \n",
      "23  +55 (021) 4840-7696       8947     Rezende do Amparo           Tocantins   \n",
      "24        0800 420 0951       7431                Novaes              Paraná   \n",
      "25         61 1221-0665       4567      da Mata de Minas    Distrito Federal   \n",
      "26      (071) 7300-9812       3341  Cardoso dos Dourados               Bahia   \n",
      "27  +55 (081) 7488-7106       7338              Oliveira             Alagoas   \n",
      "28  +55 (061) 4488 3728       6283       Farias de Minas               Bahia   \n",
      "29         71 9586 0244       4423               Freitas               Piauí   \n",
      "\n",
      "                                             endereco  \\\n",
      "0   Passarela da Cruz, 367\\nSanto Antônio\\n86370-8...   \n",
      "1   Lago Ryan Gonçalves, 2\\nFloresta\\n14761-139 Al...   \n",
      "2   Pátio de Oliveira, 80\\nJatobá\\n00644601 Moraes...   \n",
      "3   Vale Martins, 41\\nMariquinhas\\n09221-231 Almei...   \n",
      "4   Ladeira de Cavalcanti, 743\\nCidade Nova\\n39125...   \n",
      "5   Quadra Martins, 18\\nAguas Claras\\n88330581 Mou...   \n",
      "6   Estação Nunes, 66\\nNossa Senhora Da Conceição\\...   \n",
      "7   Praia de Pinto\\nVista Alegre\\n15694494 Barros ...   \n",
      "8   Aeroporto Sophia Santos, 85\\nBoa União 2ª Seçã...   \n",
      "9   Praia Luiz Otávio Pires, 981\\nBoa União 2ª Seç...   \n",
      "10  Lagoa Eduarda Lima, 88\\nMinaslandia\\n28969984 ...   \n",
      "11  Sítio Ramos, 59\\nSanta Helena\\n85794-999 Morae...   \n",
      "12  Lagoa Maria Sophia Mendes, 41\\nMangueiras\\n098...   \n",
      "13  Praia de Moraes, 7\\nLuxemburgo\\n97516-282 Alme...   \n",
      "14  Núcleo Cunha, 581\\nNovo Tupi\\n79079-810 Pereir...   \n",
      "15  Praça de Cardoso, 13\\nIndependência\\n30071617 ...   \n",
      "16  Estação Viana, 2\\nVila São Gabriel\\n27781426 d...   \n",
      "17  Viaduto Yasmin Nascimento, 15\\nItaipu\\n80807-5...   \n",
      "18   Área de Pereira\\nLuxemburgo\\n25115788 Viana / ES   \n",
      "19  Estrada Bruna da Conceição\\nCamargos\\n55657828...   \n",
      "20  Avenida de Oliveira\\nNova Pampulha\\n15775852 B...   \n",
      "21  Quadra de Pinto, 27\\nJatobá\\n71556-853 Fogaça ...   \n",
      "22           Campo Pinto\\nUrca\\n18869-998 Duarte / RR   \n",
      "23  Passarela Pietro Gonçalves, 67\\nJardim Felicid...   \n",
      "24  Passarela da Rosa, 69\\nNovo Ouro Preto\\n94730-...   \n",
      "25  Praça de Correia, 215\\nSão Jorge 2ª Seção\\n021...   \n",
      "26  Área de Cardoso, 7\\nBela Vitoria\\n10581120 da ...   \n",
      "27  Vale de da Cunha, 23\\nCaiçaras\\n08114-778 Nova...   \n",
      "28  Estação Fogaça, 81\\nZilah Sposito\\n51377737 Pe...   \n",
      "29  Distrito da Rocha, 84\\nJardim Atlântico\\n62177...   \n",
      "\n",
      "                      empresa    pais        data  \n",
      "0          das Neves e Filhos  Brasil  2020-09-05  \n",
      "1                  Cavalcanti  Brasil  2023-02-19  \n",
      "2          Rodrigues e Filhos  Brasil  2020-12-17  \n",
      "3             Nascimento - ME  Brasil  2023-04-27  \n",
      "4                     da Mata  Brasil  2020-10-23  \n",
      "5                        Melo  Brasil  2020-12-20  \n",
      "6            Sales Souza S.A.  Brasil  2020-02-23  \n",
      "7               Caldeira - ME  Brasil  2020-06-21  \n",
      "8          Martins Novaes S/A  Brasil  2023-08-06  \n",
      "9                       Pinto  Brasil  2020-09-23  \n",
      "10                    da Mota  Brasil  2021-04-25  \n",
      "11                  das Neves  Brasil  2021-09-12  \n",
      "12  da Conceição Barros Ltda.  Brasil  2021-09-02  \n",
      "13                      Jesus  Brasil  2023-04-18  \n",
      "14                       Melo  Brasil  2022-01-22  \n",
      "15               Barbosa - ME  Brasil  2020-12-06  \n",
      "16         da Conceição Ltda.  Brasil  2021-09-10  \n",
      "17             Gonçalves S.A.  Brasil  2023-10-21  \n",
      "18                    Barbosa  Brasil  2021-06-10  \n",
      "19                    da Mota  Brasil  2021-10-26  \n",
      "20          Nunes Azevedo S/A  Brasil  2020-03-02  \n",
      "21                 Cavalcanti  Brasil  2021-02-20  \n",
      "22                    Pereira  Brasil  2023-12-02  \n",
      "23                    Pereira  Brasil  2022-12-02  \n",
      "24                      Porto  Brasil  2020-10-02  \n",
      "25       Peixoto da Mata - EI  Brasil  2023-05-29  \n",
      "26                      Viana  Brasil  2023-02-15  \n",
      "27                   Oliveira  Brasil  2020-11-12  \n",
      "28      Oliveira Cardoso S.A.  Brasil  2020-11-03  \n",
      "29                    da Rosa  Brasil  2020-08-09  \n"
     ]
    },
    {
     "name": "stderr",
     "output_type": "stream",
     "text": [
      "/tmp/ipykernel_13809/2454876636.py:10: FutureWarning: Passing literal json to 'read_json' is deprecated and will be removed in a future version. To read from a literal string, wrap it in a 'StringIO' object.\n",
      "  df_descriptografado = pd.read_json(decrypted_data)\n"
     ]
    }
   ],
   "source": [
    "#exemplo para descriptografar arquivo\n",
    "\n",
    "cript = '/workspaces/api-geral/TST/dados/dados_fake.bin'\n",
    "\n",
    "#realiza a leitura do arquivo criptogrado\n",
    "with open(cript, \"rb\") as file:\n",
    "    encrypted_data = file.read()\n",
    "decrypted_data = cipher_suite.decrypt(encrypted_data).decode()\n",
    "\n",
    "#enviando para um df \n",
    "df_descriptografado = pd.read_json(decrypted_data)\n",
    "\n",
    "print(df_descriptografado)"
   ]
  }
 ],
 "metadata": {
  "kernelspec": {
   "display_name": "Python 3",
   "language": "python",
   "name": "python3"
  },
  "language_info": {
   "codemirror_mode": {
    "name": "ipython",
    "version": 3
   },
   "file_extension": ".py",
   "mimetype": "text/x-python",
   "name": "python",
   "nbconvert_exporter": "python",
   "pygments_lexer": "ipython3",
   "version": "3.10.13"
  }
 },
 "nbformat": 4,
 "nbformat_minor": 2
}
