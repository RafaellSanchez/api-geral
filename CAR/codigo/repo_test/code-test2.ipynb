{
 "cells": [
  {
   "cell_type": "code",
   "execution_count": 15,
   "metadata": {},
   "outputs": [],
   "source": [
    "import pandas as pd\n",
    "from cryptography.fernet import Fernet\n",
    "import json\n",
    "import time"
   ]
  },
  {
   "cell_type": "code",
   "execution_count": null,
   "metadata": {},
   "outputs": [],
   "source": [
    "#teste criptografia"
   ]
  },
  {
   "cell_type": "code",
   "execution_count": 17,
   "metadata": {},
   "outputs": [
    {
     "name": "stdout",
     "output_type": "stream",
     "text": [
      "carregando df\n",
      "Iniciando criptografia do arquivo!\n",
      "Transformando df em json\n",
      "Salvando arquivo criptografado\n",
      "Arquivo criptografado salvo!\n",
      "Caminho: /workspaces/api-geral/CAR/codigo/repo_ford/ford/ka/modelo_ford_atlz.bin\n",
      "Carregando arquivo criptografado\n",
      "Iniciando descriptografia\n",
      "Arquivo descriptografado!\n"
     ]
    },
    {
     "name": "stderr",
     "output_type": "stream",
     "text": [
      "/tmp/ipykernel_7970/1250161175.py:37: FutureWarning: Passing literal json to 'read_json' is deprecated and will be removed in a future version. To read from a literal string, wrap it in a 'StringIO' object.\n",
      "  df_descriptografado = pd.read_json(decrypted_data)\n"
     ]
    },
    {
     "data": {
      "text/html": [
       "<div>\n",
       "<style scoped>\n",
       "    .dataframe tbody tr th:only-of-type {\n",
       "        vertical-align: middle;\n",
       "    }\n",
       "\n",
       "    .dataframe tbody tr th {\n",
       "        vertical-align: top;\n",
       "    }\n",
       "\n",
       "    .dataframe thead th {\n",
       "        text-align: right;\n",
       "    }\n",
       "</style>\n",
       "<table border=\"1\" class=\"dataframe\">\n",
       "  <thead>\n",
       "    <tr style=\"text-align: right;\">\n",
       "      <th></th>\n",
       "      <th>codigo</th>\n",
       "      <th>nome</th>\n",
       "      <th>id</th>\n",
       "    </tr>\n",
       "  </thead>\n",
       "  <tbody>\n",
       "    <tr>\n",
       "      <th>0</th>\n",
       "      <td>655</td>\n",
       "      <td>Aerostar Mini-Van 3.8</td>\n",
       "      <td>22</td>\n",
       "    </tr>\n",
       "    <tr>\n",
       "      <th>1</th>\n",
       "      <td>656</td>\n",
       "      <td>Aspire 1.3</td>\n",
       "      <td>22</td>\n",
       "    </tr>\n",
       "    <tr>\n",
       "      <th>2</th>\n",
       "      <td>657</td>\n",
       "      <td>Belina GL 1.8 / 1.6</td>\n",
       "      <td>22</td>\n",
       "    </tr>\n",
       "    <tr>\n",
       "      <th>3</th>\n",
       "      <td>658</td>\n",
       "      <td>Belina L 1.8/ 1.6</td>\n",
       "      <td>22</td>\n",
       "    </tr>\n",
       "    <tr>\n",
       "      <th>4</th>\n",
       "      <td>9452</td>\n",
       "      <td>Bronco Sport Wildtrak 2.0 Tb 16V AWD Aut</td>\n",
       "      <td>22</td>\n",
       "    </tr>\n",
       "    <tr>\n",
       "      <th>...</th>\n",
       "      <td>...</td>\n",
       "      <td>...</td>\n",
       "      <td>...</td>\n",
       "    </tr>\n",
       "    <tr>\n",
       "      <th>475</th>\n",
       "      <td>921</td>\n",
       "      <td>Versailles Ghia 2.0i / 2.0 2p e 4p</td>\n",
       "      <td>22</td>\n",
       "    </tr>\n",
       "    <tr>\n",
       "      <th>476</th>\n",
       "      <td>922</td>\n",
       "      <td>Versailles GL 1.8i / 1.8 2p e 4p</td>\n",
       "      <td>22</td>\n",
       "    </tr>\n",
       "    <tr>\n",
       "      <th>477</th>\n",
       "      <td>923</td>\n",
       "      <td>Versailles GL 2.0i / 2.0 2p e 4p</td>\n",
       "      <td>22</td>\n",
       "    </tr>\n",
       "    <tr>\n",
       "      <th>478</th>\n",
       "      <td>924</td>\n",
       "      <td>Windstar GL</td>\n",
       "      <td>22</td>\n",
       "    </tr>\n",
       "    <tr>\n",
       "      <th>479</th>\n",
       "      <td>925</td>\n",
       "      <td>Windstar LX</td>\n",
       "      <td>22</td>\n",
       "    </tr>\n",
       "  </tbody>\n",
       "</table>\n",
       "<p>480 rows × 3 columns</p>\n",
       "</div>"
      ],
      "text/plain": [
       "     codigo                                      nome  id\n",
       "0       655                     Aerostar Mini-Van 3.8  22\n",
       "1       656                                Aspire 1.3  22\n",
       "2       657                       Belina GL 1.8 / 1.6  22\n",
       "3       658                         Belina L 1.8/ 1.6  22\n",
       "4      9452  Bronco Sport Wildtrak 2.0 Tb 16V AWD Aut  22\n",
       "..      ...                                       ...  ..\n",
       "475     921        Versailles Ghia 2.0i / 2.0 2p e 4p  22\n",
       "476     922          Versailles GL 1.8i / 1.8 2p e 4p  22\n",
       "477     923          Versailles GL 2.0i / 2.0 2p e 4p  22\n",
       "478     924                               Windstar GL  22\n",
       "479     925                               Windstar LX  22\n",
       "\n",
       "[480 rows x 3 columns]"
      ]
     },
     "metadata": {},
     "output_type": "display_data"
    }
   ],
   "source": [
    "file = '/workspaces/api-geral/CAR/codigo/repo_ford/ford/ka/modelo_ford_atlz.txt'\n",
    "\n",
    "df_read = pd.read_csv(file, sep=';')\n",
    "# display(df_read)\n",
    "df = pd.DataFrame(df_read)\n",
    "print('carregando df')\n",
    "time.sleep(4)\n",
    "# Gerar uma chave de criptografia\n",
    "key = Fernet.generate_key()\n",
    "cipher_suite = Fernet(key)\n",
    "time.sleep(4)\n",
    "print('Iniciando criptografia do arquivo!')\n",
    "\n",
    "json_string = df.to_json()\n",
    "time.sleep(4)\n",
    "print('Transformando df em json')\n",
    "encrypted_data = cipher_suite.encrypt(json_string.encode())\n",
    "time.sleep(4)\n",
    "print('Salvando arquivo criptografado')\n",
    "arquivocript = '/workspaces/api-geral/CAR/codigo/repo_ford/ford/ka/modelo_ford_atlz.bin'\n",
    "with open(arquivocript, \"wb\") as file:\n",
    "    file.write(encrypted_data)\n",
    "    print('Arquivo criptografado salvo!')\n",
    "    print(f'Caminho: {arquivocript}')\n",
    "    \n",
    "\n",
    "time.sleep(4)\n",
    "print('Carregando arquivo criptografado')  \n",
    "arquivocript = '/workspaces/api-geral/CAR/codigo/repo_ford/ford/ka/modelo_ford_atlz.bin'\n",
    "with open(arquivocript, \"rb\") as file:\n",
    "    encrypted_data = file.read()\n",
    "time.sleep(4)\n",
    "print('Iniciando descriptografia')\n",
    "decrypted_data = cipher_suite.decrypt(encrypted_data).decode()\n",
    "print('Arquivo descriptografado!')\n",
    "\n",
    "df_descriptografado = pd.read_json(decrypted_data)\n",
    "display(df_descriptografado)"
   ]
  },
  {
   "cell_type": "code",
   "execution_count": 6,
   "metadata": {},
   "outputs": [
    {
     "name": "stdout",
     "output_type": "stream",
     "text": [
      "Arquivo criptografado salvo!\n",
      "Caminho: /workspaces/api-geral/CAR/codigo/repo_ford/ford/ka/modelo_ford_atlz.bin\n"
     ]
    }
   ],
   "source": [
    "df = pd.DataFrame(df_read)\n",
    "# Gerar uma chave de criptografia\n",
    "key = Fernet.generate_key()\n",
    "cipher_suite = Fernet(key)\n",
    "\n",
    "json_string = df.to_json()\n",
    "\n",
    "encrypted_data = cipher_suite.encrypt(json_string.encode())\n",
    "arquivocript = '/workspaces/api-geral/CAR/codigo/repo_ford/ford/ka/modelo_ford_atlz.bin'\n",
    "with open(arquivocript, \"wb\") as file:\n",
    "    file.write(encrypted_data)\n",
    "    print('Arquivo criptografado salvo!')\n",
    "    print(f'Caminho: {arquivocript}')"
   ]
  },
  {
   "cell_type": "code",
   "execution_count": 12,
   "metadata": {},
   "outputs": [
    {
     "name": "stdout",
     "output_type": "stream",
     "text": [
      "Arquivo descriptografado!\n"
     ]
    },
    {
     "name": "stderr",
     "output_type": "stream",
     "text": [
      "/tmp/ipykernel_7970/427965824.py:8: FutureWarning: Passing literal json to 'read_json' is deprecated and will be removed in a future version. To read from a literal string, wrap it in a 'StringIO' object.\n",
      "  df_descriptografado = pd.read_json(decrypted_data)\n"
     ]
    },
    {
     "ename": "NameError",
     "evalue": "name 'display_latex' is not defined",
     "output_type": "error",
     "traceback": [
      "\u001b[0;31m---------------------------------------------------------------------------\u001b[0m",
      "\u001b[0;31mNameError\u001b[0m                                 Traceback (most recent call last)",
      "Cell \u001b[0;32mIn[12], line 9\u001b[0m\n\u001b[1;32m      6\u001b[0m \u001b[38;5;28mprint\u001b[39m(\u001b[38;5;124m'\u001b[39m\u001b[38;5;124mArquivo descriptografado!\u001b[39m\u001b[38;5;124m'\u001b[39m)\n\u001b[1;32m      8\u001b[0m df_descriptografado \u001b[38;5;241m=\u001b[39m pd\u001b[38;5;241m.\u001b[39mread_json(decrypted_data)\n\u001b[0;32m----> 9\u001b[0m \u001b[43mdisplay_latex\u001b[49m(df_descriptografado)\n",
      "\u001b[0;31mNameError\u001b[0m: name 'display_latex' is not defined"
     ]
    }
   ],
   "source": [
    "arquivocript = '/workspaces/api-geral/CAR/codigo/repo_ford/ford/ka/modelo_ford_atlz.bin'\n",
    "with open(arquivocript, \"rb\") as file:\n",
    "    encrypted_data = file.read()\n",
    "\n",
    "decrypted_data = cipher_suite.decrypt(encrypted_data).decode()\n",
    "print('Arquivo descriptografado!')\n",
    "\n",
    "df_descriptografado = pd.read_json(decrypted_data)\n",
    "display_latex(df_descriptografado)"
   ]
  }
 ],
 "metadata": {
  "kernelspec": {
   "display_name": "Python 3",
   "language": "python",
   "name": "python3"
  },
  "language_info": {
   "codemirror_mode": {
    "name": "ipython",
    "version": 3
   },
   "file_extension": ".py",
   "mimetype": "text/x-python",
   "name": "python",
   "nbconvert_exporter": "python",
   "pygments_lexer": "ipython3",
   "version": "3.undefined.undefined"
  }
 },
 "nbformat": 4,
 "nbformat_minor": 2
}
