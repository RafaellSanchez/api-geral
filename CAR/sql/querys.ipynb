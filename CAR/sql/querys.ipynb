{
 "cells": [
  {
   "cell_type": "code",
   "execution_count": null,
   "metadata": {},
   "outputs": [],
   "source": [
    "#criar um database\n",
    "#criar tabelas que se relacionem\n",
    "#criar consulta"
   ]
  },
  {
   "cell_type": "code",
   "execution_count": 1,
   "metadata": {},
   "outputs": [],
   "source": [
    "import sqlite3"
   ]
  },
  {
   "cell_type": "code",
   "execution_count": 3,
   "metadata": {},
   "outputs": [],
   "source": [
    "# Especificar o caminho para o banco de dados SQLite\n",
    "# caminho_banco_dados = '/workspaces/api-geral/GEO/sql/dados_geo.db'\n",
    "caminho_banco_dados = '/workspaces/api-geral/CAR/sql/fipe.db'\n",
    "\n",
    "# Conectar ao banco de dados SQLite (ou criar um novo se não existir)\n",
    "conn = sqlite3.connect(caminho_banco_dados)\n",
    "\n",
    "# Criar um cursor para executar comandos SQL\n",
    "cursor = conn.cursor()\n"
   ]
  },
  {
   "cell_type": "code",
   "execution_count": 6,
   "metadata": {},
   "outputs": [],
   "source": [
    "file = '/workspaces/api-geral/CAR/dados/marcas.txt'\n",
    "\n",
    "# Criar tabela se não existir, adicionando uma nova coluna 'uuid' como chave primária\n",
    "cursor.execute('''CREATE TABLE IF NOT EXISTS brnz_marcas (\n",
    "                 codigo NUMBER PRIMARY KEY,\n",
    "                 modelo TEXT\n",
    "                )''')\n",
    "\n",
    "# Abrir e ler o arquivo .txt\n",
    "with open(file, 'r') as arquivo:\n",
    "    linhas = arquivo.readlines()\n",
    "\n",
    "    # Ignorar o cabeçalho\n",
    "    cabecalho = linhas.pop(0)\n",
    "\n",
    "    # Inserir dados na tabela, gerando valores únicos para a nova coluna 'uuid'\n",
    "    for linha in linhas:\n",
    "        dados = linha.strip().split(';')\n",
    "        # Inserir na tabela, incluindo o novo UUID\n",
    "        cursor.execute(\"INSERT INTO brnz_marcas (codigo, modelo) VALUES (?, ?)\",  dados)\n",
    "\n",
    "# Commit para salvar as alterações\n",
    "conn.commit()\n",
    "\n",
    "# Fechar a conexão\n",
    "conn.close()"
   ]
  },
  {
   "cell_type": "code",
   "execution_count": null,
   "metadata": {},
   "outputs": [],
   "source": [
    "show_tables_query = \"SELECT name FROM sqlite_master WHERE type='table';\"\n",
    "cursor.execute(show_tables_query)\n",
    "\n",
    "# Recuperar o resultado da consulta e imprimir as tabelas\n",
    "tables = cursor.fetchall()\n",
    "print(\"Tabelas no banco de dados:\")\n",
    "for table in tables:\n",
    "    print(table[0])"
   ]
  }
 ],
 "metadata": {
  "kernelspec": {
   "display_name": "Python 3",
   "language": "python",
   "name": "python3"
  },
  "language_info": {
   "codemirror_mode": {
    "name": "ipython",
    "version": 3
   },
   "file_extension": ".py",
   "mimetype": "text/x-python",
   "name": "python",
   "nbconvert_exporter": "python",
   "pygments_lexer": "ipython3",
   "version": "3.10.13"
  }
 },
 "nbformat": 4,
 "nbformat_minor": 2
}
