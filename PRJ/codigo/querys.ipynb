{
 "cells": [
  {
   "cell_type": "code",
   "execution_count": 1,
   "metadata": {},
   "outputs": [],
   "source": [
    "import sqlite3"
   ]
  },
  {
   "cell_type": "code",
   "execution_count": 3,
   "metadata": {},
   "outputs": [
    {
     "name": "stdout",
     "output_type": "stream",
     "text": [
      "('Dr. Nathan Fogaça', '072.638.195-03', 'silveiraana@example.net', '81 9411-9143', 6968.0, 'Alves de Ramos', 'Roraima', 'Chácara Teixeira, 67\\nCasa Branca\\n14485730 Azevedo / MA', 'Alves', 'Brasil', '2021-03-21')\n",
      "('Emilly Melo', '984.672.513-28', 'mouraluiz-gustavo@example.org', '51 3366 0692', 2642.0, 'Rezende', 'Rondônia', 'Praia Rocha, 884\\nHorto Florestal\\n01440-320 Almeida da Serra / PE', 'Mendes e Filhos', 'Brasil', '2021-12-02')\n",
      "('Maria Luiza Costa', '749.610.235-07', 'ana-julia66@example.net', '41 1195-4932', 4073.0, 'Lima', 'Pernambuco', 'Praia de Correia, 8\\nCidade Nova\\n18026956 Porto / PR', 'Pinto Oliveira - ME', 'Brasil', '2022-10-09')\n",
      "('Carolina Rezende', '567.824.091-94', 'miguelcardoso@example.net', '(031) 1726-2480', 8694.0, 'Costela do Oeste', 'Minas Gerais', 'Alameda Ana Vitória Fernandes, 7\\nSão Jorge 2ª Seção\\n65959923 Nascimento do Sul / PB', 'Duarte', 'Brasil', '2023-09-10')\n",
      "('Helena Pereira', '269.854.173-37', 'costaraquel@example.org', '+55 31 8300 6760', 8966.0, 'Rocha', 'Maranhão', 'Travessa de Peixoto, 95\\nMantiqueira\\n63159665 Pinto de Moura / PB', 'Almeida', 'Brasil', '2021-10-18')\n",
      "('Srta. Clara Ferreira', '102.789.346-50', 'augustoaragao@example.net', '+55 71 1971 6821', 5503.0, 'Almeida', 'Sergipe', 'Sítio da Rosa, 88\\nVila Copacabana\\n83856-953 Cunha do Amparo / MA', 'Gomes e Filhos', 'Brasil', '2020-06-30')\n",
      "('Gabrielly da Rosa', '395.718.064-39', 'isabella58@example.org', '+55 (084) 0244 3721', 6736.0, 'da Conceição do Amparo', 'Alagoas', 'Campo de Peixoto\\nVila Novo São Lucas\\n39555793 Moreira Alegre / PI', 'Sales', 'Brasil', '2022-02-17')\n",
      "('Sr. Davi Lucca Farias', '468.032.517-80', 'da-luzcaroline@example.org', '+55 (051) 8916-8792', 7482.0, 'Moura Paulista', 'Ceará', 'Via de Pires, 86\\nBuritis\\n66131-703 Santos / SC', 'Moreira', 'Brasil', '2021-01-03')\n",
      "('Rafaela Barros', '716.209.854-11', 'rmendes@example.com', '(084) 5763-6129', 5244.0, 'Moraes', 'Amapá', 'Passarela de Sales, 45\\nAntonio Ribeiro De Abreu 1ª Seção\\n02651-485 Souza Verde / PE', 'Nascimento', 'Brasil', '2022-11-11')\n",
      "('Enrico Rocha', '639.052.784-56', 'luigi91@example.com', '+55 (031) 0489 8139', 9449.0, 'Martins de Monteiro', 'Pará', 'Travessa Carvalho, 82\\nConjunto Jatoba\\n58898-257 Moreira / RR', 'Monteiro', 'Brasil', '2020-10-15')\n"
     ]
    }
   ],
   "source": [
    "caminho_banco_dados = '/workspaces/api-geral/PRJ/bd_prj.db'\n",
    "conn = sqlite3.connect(caminho_banco_dados)\n",
    "cursor = conn.cursor()\n",
    "\n",
    "query = 'select * from brnz_fake'\n",
    "cursor.execute(query)\n",
    "\n",
    "resultados = cursor.fetchall()\n",
    "\n",
    "# Exibir os resultados\n",
    "for linha in resultados:\n",
    "    print(linha)"
   ]
  },
  {
   "cell_type": "code",
   "execution_count": null,
   "metadata": {},
   "outputs": [],
   "source": []
  },
  {
   "cell_type": "code",
   "execution_count": 8,
   "metadata": {},
   "outputs": [],
   "source": [
    "caminho_banco_dados = '/workspaces/api-geral/PRJ/bd_prj.db'\n",
    "conn = sqlite3.connect(caminho_banco_dados)\n",
    "cursor = conn.cursor()\n",
    "\n",
    "cod = 'PRAGMA brnz_fake'\n",
    "\n",
    "cursor.execute(cod)\n",
    "\n",
    "result = cursor.fetchall()\n",
    "\n",
    "for linha in result:\n",
    "    print(linha)\n",
    "    "
   ]
  }
 ],
 "metadata": {
  "kernelspec": {
   "display_name": "Python 3",
   "language": "python",
   "name": "python3"
  },
  "language_info": {
   "codemirror_mode": {
    "name": "ipython",
    "version": 3
   },
   "file_extension": ".py",
   "mimetype": "text/x-python",
   "name": "python",
   "nbconvert_exporter": "python",
   "pygments_lexer": "ipython3",
   "version": "3.10.13"
  }
 },
 "nbformat": 4,
 "nbformat_minor": 2
}
