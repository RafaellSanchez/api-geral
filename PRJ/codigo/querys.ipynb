{
 "cells": [
  {
   "cell_type": "code",
   "execution_count": null,
   "metadata": {},
   "outputs": [],
   "source": [
    "import sqlite3"
   ]
  },
  {
   "cell_type": "code",
   "execution_count": null,
   "metadata": {},
   "outputs": [],
   "source": [
    "caminho_banco_dados = '/workspaces/api-geral/PRJ/bd_prj.db'\n",
    "conn = sqlite3.connect(caminho_banco_dados)\n",
    "cursor = conn.cursor()\n",
    "\n",
    "query = 'select * from brnz_fake'\n",
    "cursor.execute(query)\n",
    "\n",
    "resultados = cursor.fetchall()\n",
    "\n",
    "# Exibir os resultados\n",
    "for linha in resultados:\n",
    "    print(linha)"
   ]
  }
 ],
 "metadata": {
  "language_info": {
   "name": "python"
  }
 },
 "nbformat": 4,
 "nbformat_minor": 2
}
