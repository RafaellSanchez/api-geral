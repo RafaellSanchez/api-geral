{
 "cells": [
  {
   "cell_type": "code",
   "execution_count": 1,
   "metadata": {},
   "outputs": [],
   "source": [
    "import requests\n",
    "import pandas as pd "
   ]
  },
  {
   "cell_type": "code",
   "execution_count": 2,
   "metadata": {},
   "outputs": [
    {
     "name": "stdout",
     "output_type": "stream",
     "text": [
      "[{'campeonato_id': 14, 'nome': 'Campeonato Brasileiro Série B', 'slug': 'campeonato-brasileiro-serie-b', 'nome_popular': 'Brasileirão Série B', 'edicao_atual': {'edicao_id': 80, 'temporada': '2023', 'nome': 'Campeonato Brasileiro Série B 2023', 'nome_popular': 'Brasileirão Série B 2023', 'slug': 'campeonato-brasileiro-serie-b-2023'}, 'fase_atual': {'fase_id': 371, 'nome': 'Fase Única', 'slug': 'fase-unica', 'tipo': 'pontos-corridos', '_link': '/v1/campeonatos/14/fases/371'}, 'rodada_atual': {'nome': '38ª Rodada', 'slug': '38a-rodada', 'rodada': 38, 'status': 'encerrada'}, 'status': 'finalizado', 'tipo': 'Pontos Corridos', 'logo': 'https://api.api-futebol.com.br/images/competicao/brasileiro-serieb.png', 'regiao': 'nacional', '_link': '/v1/campeonatos/14'}]\n"
     ]
    }
   ],
   "source": [
    "key_api = 'test_505072689cfcb8a0412597ddba4f19'\n",
    "\n",
    "url = 'https://api.api-futebol.com.br/v1/campeonatos'\n",
    "\n",
    "headers = {'Authorization': f'Bearer {key_api}'}\n",
    "\n",
    "response = requests.get(url, headers=headers)\n",
    "\n",
    "# Verifique o status da resposta\n",
    "if response.status_code == 200:\n",
    "    # A resposta foi bem-sucedida, você pode processar os dados aqui\n",
    "    print(response.json())\n",
    "else:\n",
    "    # Algo deu errado, imprima o status e o conteúdo da resposta para debug\n",
    "    print(f'Erro {response.status_code}: {response.text}')"
   ]
  },
  {
   "cell_type": "code",
   "execution_count": 3,
   "metadata": {},
   "outputs": [
    {
     "data": {
      "text/plain": [
       "[{'campeonato_id': 14,\n",
       "  'nome': 'Campeonato Brasileiro Série B',\n",
       "  'slug': 'campeonato-brasileiro-serie-b',\n",
       "  'nome_popular': 'Brasileirão Série B',\n",
       "  'edicao_atual': {'edicao_id': 80,\n",
       "   'temporada': '2023',\n",
       "   'nome': 'Campeonato Brasileiro Série B 2023',\n",
       "   'nome_popular': 'Brasileirão Série B 2023',\n",
       "   'slug': 'campeonato-brasileiro-serie-b-2023'},\n",
       "  'fase_atual': {'fase_id': 371,\n",
       "   'nome': 'Fase Única',\n",
       "   'slug': 'fase-unica',\n",
       "   'tipo': 'pontos-corridos',\n",
       "   '_link': '/v1/campeonatos/14/fases/371'},\n",
       "  'rodada_atual': {'nome': '38ª Rodada',\n",
       "   'slug': '38a-rodada',\n",
       "   'rodada': 38,\n",
       "   'status': 'encerrada'},\n",
       "  'status': 'finalizado',\n",
       "  'tipo': 'Pontos Corridos',\n",
       "  'logo': 'https://api.api-futebol.com.br/images/competicao/brasileiro-serieb.png',\n",
       "  'regiao': 'nacional',\n",
       "  '_link': '/v1/campeonatos/14'}]"
      ]
     },
     "execution_count": 3,
     "metadata": {},
     "output_type": "execute_result"
    }
   ],
   "source": [
    "response.json()"
   ]
  }
 ],
 "metadata": {
  "kernelspec": {
   "display_name": "Python 3",
   "language": "python",
   "name": "python3"
  },
  "language_info": {
   "codemirror_mode": {
    "name": "ipython",
    "version": 3
   },
   "file_extension": ".py",
   "mimetype": "text/x-python",
   "name": "python",
   "nbconvert_exporter": "python",
   "pygments_lexer": "ipython3",
   "version": "3.10.13"
  }
 },
 "nbformat": 4,
 "nbformat_minor": 2
}
