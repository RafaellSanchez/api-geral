{
 "cells": [
  {
   "cell_type": "code",
   "execution_count": 1,
   "metadata": {},
   "outputs": [],
   "source": [
    "import requests\n",
    "import pandas as pd"
   ]
  },
  {
   "cell_type": "code",
   "execution_count": 2,
   "metadata": {},
   "outputs": [
    {
     "name": "stdout",
     "output_type": "stream",
     "text": [
      "Erro 429: {\"message\":\"Voc\\u00ea atingiu o limite di\\u00e1rio de requisi\\u00e7\\u00f5es. Fa\\u00e7a upgrade do seu plano ou tente amanh\\u00e3.\",\"code\":429}\n"
     ]
    }
   ],
   "source": [
    "key_api = 'live_bd725df883b69712d90e19b09d873e'\n",
    "\n",
    "url = 'https://api.api-futebol.com.br/v1/campeonatos'\n",
    "headers = {'Authorization': f'Bearer {key_api}'}\n",
    "response = requests.get(url, headers=headers)\n",
    "\n",
    "# Verifique o status da resposta\n",
    "if response.status_code == 200:\n",
    "    # A resposta foi bem-sucedida, você pode processar os dados aqui\n",
    "    print(response.json())\n",
    "else:\n",
    "    # Algo deu errado, imprima o status e o conteúdo da resposta para debug\n",
    "    print(f'Erro {response.status_code}: {response.text}')"
   ]
  }
 ],
 "metadata": {
  "kernelspec": {
   "display_name": "Python 3",
   "language": "python",
   "name": "python3"
  },
  "language_info": {
   "codemirror_mode": {
    "name": "ipython",
    "version": 3
   },
   "file_extension": ".py",
   "mimetype": "text/x-python",
   "name": "python",
   "nbconvert_exporter": "python",
   "pygments_lexer": "ipython3",
   "version": "3.10.13"
  }
 },
 "nbformat": 4,
 "nbformat_minor": 2
}
